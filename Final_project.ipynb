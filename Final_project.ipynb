{
 "cells": [
  {
   "cell_type": "markdown",
   "id": "71e95882-ad48-4ec1-b18d-227053c81e61",
   "metadata": {},
   "source": [
    "## **Group Assignment：Credit Card Fraud Detection**"
   ]
  },
  {
   "cell_type": "markdown",
   "id": "8f57ddfd-e595-40bc-8ce9-42ca0c55fbc7",
   "metadata": {},
   "source": [
    "**Member:** \n",
    "- TIANYANG CHEN\n",
    "- GEETHIKA REDDY KONDA\n",
    "- NICOLÁS LEYVA GONZÁLEZ\n",
    "- KAREEM RAMI JAMIL HAWWASH\n",
    "- OMAR MEKKAWI YASSIN\n",
    "\n",
    "**Course:** Machine Learning Foundations 2025  <br>\n",
    "**Date:** April 28, 2025  "
   ]
  },
  {
   "cell_type": "markdown",
   "id": "e2344d39-39d8-4a19-a67d-18cab1d67f5d",
   "metadata": {},
   "source": [
    "- **Data source:** https://www.kaggle.com/datasets/mlg-ulb/creditcardfraud/data <br>\n",
    "- **GitHub Repository:**  git@github.com:Geethika2506/Machine-Learning-final-project.git"
   ]
  },
  {
   "cell_type": "code",
   "execution_count": 1,
   "id": "009be93d-5f59-459d-8b2a-ea1ba635b78a",
   "metadata": {},
   "outputs": [],
   "source": [
    "import pandas as pd\n",
    "import numpy as npgit \n",
    "import matplotlib.pyplot as plt\n",
    "import seaborn as sns\n",
    "import numpy as np"
   ]
  },
  {
   "cell_type": "code",
   "execution_count": 2,
   "id": "2f1aa13b-0478-47d8-9607-1ecf9c90e0f1",
   "metadata": {},
   "outputs": [],
   "source": [
    "file_path = r\"D:\\交流交换\\MLF\\creditcard.csv\""
   ]
  },
  {
   "cell_type": "code",
   "execution_count": 3,
   "id": "88f791cf-e15a-40a4-a46d-1f9eb98074cf",
   "metadata": {},
   "outputs": [],
   "source": [
    "df = pd.read_csv(file_path)"
   ]
  },
  {
   "cell_type": "code",
   "execution_count": 4,
   "id": "84fe4dde-5a92-4adf-8e75-d692c833fce7",
   "metadata": {},
   "outputs": [
    {
     "data": {
      "text/html": [
       "<div>\n",
       "<style scoped>\n",
       "    .dataframe tbody tr th:only-of-type {\n",
       "        vertical-align: middle;\n",
       "    }\n",
       "\n",
       "    .dataframe tbody tr th {\n",
       "        vertical-align: top;\n",
       "    }\n",
       "\n",
       "    .dataframe thead th {\n",
       "        text-align: right;\n",
       "    }\n",
       "</style>\n",
       "<table border=\"1\" class=\"dataframe\">\n",
       "  <thead>\n",
       "    <tr style=\"text-align: right;\">\n",
       "      <th></th>\n",
       "      <th>Time</th>\n",
       "      <th>V1</th>\n",
       "      <th>V2</th>\n",
       "      <th>V3</th>\n",
       "      <th>V4</th>\n",
       "      <th>V5</th>\n",
       "      <th>V6</th>\n",
       "      <th>V7</th>\n",
       "      <th>V8</th>\n",
       "      <th>V9</th>\n",
       "      <th>...</th>\n",
       "      <th>V21</th>\n",
       "      <th>V22</th>\n",
       "      <th>V23</th>\n",
       "      <th>V24</th>\n",
       "      <th>V25</th>\n",
       "      <th>V26</th>\n",
       "      <th>V27</th>\n",
       "      <th>V28</th>\n",
       "      <th>Amount</th>\n",
       "      <th>Class</th>\n",
       "    </tr>\n",
       "  </thead>\n",
       "  <tbody>\n",
       "    <tr>\n",
       "      <th>0</th>\n",
       "      <td>0.0</td>\n",
       "      <td>-1.359807</td>\n",
       "      <td>-0.072781</td>\n",
       "      <td>2.536347</td>\n",
       "      <td>1.378155</td>\n",
       "      <td>-0.338321</td>\n",
       "      <td>0.462388</td>\n",
       "      <td>0.239599</td>\n",
       "      <td>0.098698</td>\n",
       "      <td>0.363787</td>\n",
       "      <td>...</td>\n",
       "      <td>-0.018307</td>\n",
       "      <td>0.277838</td>\n",
       "      <td>-0.110474</td>\n",
       "      <td>0.066928</td>\n",
       "      <td>0.128539</td>\n",
       "      <td>-0.189115</td>\n",
       "      <td>0.133558</td>\n",
       "      <td>-0.021053</td>\n",
       "      <td>149.62</td>\n",
       "      <td>0</td>\n",
       "    </tr>\n",
       "    <tr>\n",
       "      <th>1</th>\n",
       "      <td>0.0</td>\n",
       "      <td>1.191857</td>\n",
       "      <td>0.266151</td>\n",
       "      <td>0.166480</td>\n",
       "      <td>0.448154</td>\n",
       "      <td>0.060018</td>\n",
       "      <td>-0.082361</td>\n",
       "      <td>-0.078803</td>\n",
       "      <td>0.085102</td>\n",
       "      <td>-0.255425</td>\n",
       "      <td>...</td>\n",
       "      <td>-0.225775</td>\n",
       "      <td>-0.638672</td>\n",
       "      <td>0.101288</td>\n",
       "      <td>-0.339846</td>\n",
       "      <td>0.167170</td>\n",
       "      <td>0.125895</td>\n",
       "      <td>-0.008983</td>\n",
       "      <td>0.014724</td>\n",
       "      <td>2.69</td>\n",
       "      <td>0</td>\n",
       "    </tr>\n",
       "    <tr>\n",
       "      <th>2</th>\n",
       "      <td>1.0</td>\n",
       "      <td>-1.358354</td>\n",
       "      <td>-1.340163</td>\n",
       "      <td>1.773209</td>\n",
       "      <td>0.379780</td>\n",
       "      <td>-0.503198</td>\n",
       "      <td>1.800499</td>\n",
       "      <td>0.791461</td>\n",
       "      <td>0.247676</td>\n",
       "      <td>-1.514654</td>\n",
       "      <td>...</td>\n",
       "      <td>0.247998</td>\n",
       "      <td>0.771679</td>\n",
       "      <td>0.909412</td>\n",
       "      <td>-0.689281</td>\n",
       "      <td>-0.327642</td>\n",
       "      <td>-0.139097</td>\n",
       "      <td>-0.055353</td>\n",
       "      <td>-0.059752</td>\n",
       "      <td>378.66</td>\n",
       "      <td>0</td>\n",
       "    </tr>\n",
       "    <tr>\n",
       "      <th>3</th>\n",
       "      <td>1.0</td>\n",
       "      <td>-0.966272</td>\n",
       "      <td>-0.185226</td>\n",
       "      <td>1.792993</td>\n",
       "      <td>-0.863291</td>\n",
       "      <td>-0.010309</td>\n",
       "      <td>1.247203</td>\n",
       "      <td>0.237609</td>\n",
       "      <td>0.377436</td>\n",
       "      <td>-1.387024</td>\n",
       "      <td>...</td>\n",
       "      <td>-0.108300</td>\n",
       "      <td>0.005274</td>\n",
       "      <td>-0.190321</td>\n",
       "      <td>-1.175575</td>\n",
       "      <td>0.647376</td>\n",
       "      <td>-0.221929</td>\n",
       "      <td>0.062723</td>\n",
       "      <td>0.061458</td>\n",
       "      <td>123.50</td>\n",
       "      <td>0</td>\n",
       "    </tr>\n",
       "    <tr>\n",
       "      <th>4</th>\n",
       "      <td>2.0</td>\n",
       "      <td>-1.158233</td>\n",
       "      <td>0.877737</td>\n",
       "      <td>1.548718</td>\n",
       "      <td>0.403034</td>\n",
       "      <td>-0.407193</td>\n",
       "      <td>0.095921</td>\n",
       "      <td>0.592941</td>\n",
       "      <td>-0.270533</td>\n",
       "      <td>0.817739</td>\n",
       "      <td>...</td>\n",
       "      <td>-0.009431</td>\n",
       "      <td>0.798278</td>\n",
       "      <td>-0.137458</td>\n",
       "      <td>0.141267</td>\n",
       "      <td>-0.206010</td>\n",
       "      <td>0.502292</td>\n",
       "      <td>0.219422</td>\n",
       "      <td>0.215153</td>\n",
       "      <td>69.99</td>\n",
       "      <td>0</td>\n",
       "    </tr>\n",
       "    <tr>\n",
       "      <th>...</th>\n",
       "      <td>...</td>\n",
       "      <td>...</td>\n",
       "      <td>...</td>\n",
       "      <td>...</td>\n",
       "      <td>...</td>\n",
       "      <td>...</td>\n",
       "      <td>...</td>\n",
       "      <td>...</td>\n",
       "      <td>...</td>\n",
       "      <td>...</td>\n",
       "      <td>...</td>\n",
       "      <td>...</td>\n",
       "      <td>...</td>\n",
       "      <td>...</td>\n",
       "      <td>...</td>\n",
       "      <td>...</td>\n",
       "      <td>...</td>\n",
       "      <td>...</td>\n",
       "      <td>...</td>\n",
       "      <td>...</td>\n",
       "      <td>...</td>\n",
       "    </tr>\n",
       "    <tr>\n",
       "      <th>284802</th>\n",
       "      <td>172786.0</td>\n",
       "      <td>-11.881118</td>\n",
       "      <td>10.071785</td>\n",
       "      <td>-9.834783</td>\n",
       "      <td>-2.066656</td>\n",
       "      <td>-5.364473</td>\n",
       "      <td>-2.606837</td>\n",
       "      <td>-4.918215</td>\n",
       "      <td>7.305334</td>\n",
       "      <td>1.914428</td>\n",
       "      <td>...</td>\n",
       "      <td>0.213454</td>\n",
       "      <td>0.111864</td>\n",
       "      <td>1.014480</td>\n",
       "      <td>-0.509348</td>\n",
       "      <td>1.436807</td>\n",
       "      <td>0.250034</td>\n",
       "      <td>0.943651</td>\n",
       "      <td>0.823731</td>\n",
       "      <td>0.77</td>\n",
       "      <td>0</td>\n",
       "    </tr>\n",
       "    <tr>\n",
       "      <th>284803</th>\n",
       "      <td>172787.0</td>\n",
       "      <td>-0.732789</td>\n",
       "      <td>-0.055080</td>\n",
       "      <td>2.035030</td>\n",
       "      <td>-0.738589</td>\n",
       "      <td>0.868229</td>\n",
       "      <td>1.058415</td>\n",
       "      <td>0.024330</td>\n",
       "      <td>0.294869</td>\n",
       "      <td>0.584800</td>\n",
       "      <td>...</td>\n",
       "      <td>0.214205</td>\n",
       "      <td>0.924384</td>\n",
       "      <td>0.012463</td>\n",
       "      <td>-1.016226</td>\n",
       "      <td>-0.606624</td>\n",
       "      <td>-0.395255</td>\n",
       "      <td>0.068472</td>\n",
       "      <td>-0.053527</td>\n",
       "      <td>24.79</td>\n",
       "      <td>0</td>\n",
       "    </tr>\n",
       "    <tr>\n",
       "      <th>284804</th>\n",
       "      <td>172788.0</td>\n",
       "      <td>1.919565</td>\n",
       "      <td>-0.301254</td>\n",
       "      <td>-3.249640</td>\n",
       "      <td>-0.557828</td>\n",
       "      <td>2.630515</td>\n",
       "      <td>3.031260</td>\n",
       "      <td>-0.296827</td>\n",
       "      <td>0.708417</td>\n",
       "      <td>0.432454</td>\n",
       "      <td>...</td>\n",
       "      <td>0.232045</td>\n",
       "      <td>0.578229</td>\n",
       "      <td>-0.037501</td>\n",
       "      <td>0.640134</td>\n",
       "      <td>0.265745</td>\n",
       "      <td>-0.087371</td>\n",
       "      <td>0.004455</td>\n",
       "      <td>-0.026561</td>\n",
       "      <td>67.88</td>\n",
       "      <td>0</td>\n",
       "    </tr>\n",
       "    <tr>\n",
       "      <th>284805</th>\n",
       "      <td>172788.0</td>\n",
       "      <td>-0.240440</td>\n",
       "      <td>0.530483</td>\n",
       "      <td>0.702510</td>\n",
       "      <td>0.689799</td>\n",
       "      <td>-0.377961</td>\n",
       "      <td>0.623708</td>\n",
       "      <td>-0.686180</td>\n",
       "      <td>0.679145</td>\n",
       "      <td>0.392087</td>\n",
       "      <td>...</td>\n",
       "      <td>0.265245</td>\n",
       "      <td>0.800049</td>\n",
       "      <td>-0.163298</td>\n",
       "      <td>0.123205</td>\n",
       "      <td>-0.569159</td>\n",
       "      <td>0.546668</td>\n",
       "      <td>0.108821</td>\n",
       "      <td>0.104533</td>\n",
       "      <td>10.00</td>\n",
       "      <td>0</td>\n",
       "    </tr>\n",
       "    <tr>\n",
       "      <th>284806</th>\n",
       "      <td>172792.0</td>\n",
       "      <td>-0.533413</td>\n",
       "      <td>-0.189733</td>\n",
       "      <td>0.703337</td>\n",
       "      <td>-0.506271</td>\n",
       "      <td>-0.012546</td>\n",
       "      <td>-0.649617</td>\n",
       "      <td>1.577006</td>\n",
       "      <td>-0.414650</td>\n",
       "      <td>0.486180</td>\n",
       "      <td>...</td>\n",
       "      <td>0.261057</td>\n",
       "      <td>0.643078</td>\n",
       "      <td>0.376777</td>\n",
       "      <td>0.008797</td>\n",
       "      <td>-0.473649</td>\n",
       "      <td>-0.818267</td>\n",
       "      <td>-0.002415</td>\n",
       "      <td>0.013649</td>\n",
       "      <td>217.00</td>\n",
       "      <td>0</td>\n",
       "    </tr>\n",
       "  </tbody>\n",
       "</table>\n",
       "<p>284807 rows × 31 columns</p>\n",
       "</div>"
      ],
      "text/plain": [
       "            Time         V1         V2        V3        V4        V5  \\\n",
       "0            0.0  -1.359807  -0.072781  2.536347  1.378155 -0.338321   \n",
       "1            0.0   1.191857   0.266151  0.166480  0.448154  0.060018   \n",
       "2            1.0  -1.358354  -1.340163  1.773209  0.379780 -0.503198   \n",
       "3            1.0  -0.966272  -0.185226  1.792993 -0.863291 -0.010309   \n",
       "4            2.0  -1.158233   0.877737  1.548718  0.403034 -0.407193   \n",
       "...          ...        ...        ...       ...       ...       ...   \n",
       "284802  172786.0 -11.881118  10.071785 -9.834783 -2.066656 -5.364473   \n",
       "284803  172787.0  -0.732789  -0.055080  2.035030 -0.738589  0.868229   \n",
       "284804  172788.0   1.919565  -0.301254 -3.249640 -0.557828  2.630515   \n",
       "284805  172788.0  -0.240440   0.530483  0.702510  0.689799 -0.377961   \n",
       "284806  172792.0  -0.533413  -0.189733  0.703337 -0.506271 -0.012546   \n",
       "\n",
       "              V6        V7        V8        V9  ...       V21       V22  \\\n",
       "0       0.462388  0.239599  0.098698  0.363787  ... -0.018307  0.277838   \n",
       "1      -0.082361 -0.078803  0.085102 -0.255425  ... -0.225775 -0.638672   \n",
       "2       1.800499  0.791461  0.247676 -1.514654  ...  0.247998  0.771679   \n",
       "3       1.247203  0.237609  0.377436 -1.387024  ... -0.108300  0.005274   \n",
       "4       0.095921  0.592941 -0.270533  0.817739  ... -0.009431  0.798278   \n",
       "...          ...       ...       ...       ...  ...       ...       ...   \n",
       "284802 -2.606837 -4.918215  7.305334  1.914428  ...  0.213454  0.111864   \n",
       "284803  1.058415  0.024330  0.294869  0.584800  ...  0.214205  0.924384   \n",
       "284804  3.031260 -0.296827  0.708417  0.432454  ...  0.232045  0.578229   \n",
       "284805  0.623708 -0.686180  0.679145  0.392087  ...  0.265245  0.800049   \n",
       "284806 -0.649617  1.577006 -0.414650  0.486180  ...  0.261057  0.643078   \n",
       "\n",
       "             V23       V24       V25       V26       V27       V28  Amount  \\\n",
       "0      -0.110474  0.066928  0.128539 -0.189115  0.133558 -0.021053  149.62   \n",
       "1       0.101288 -0.339846  0.167170  0.125895 -0.008983  0.014724    2.69   \n",
       "2       0.909412 -0.689281 -0.327642 -0.139097 -0.055353 -0.059752  378.66   \n",
       "3      -0.190321 -1.175575  0.647376 -0.221929  0.062723  0.061458  123.50   \n",
       "4      -0.137458  0.141267 -0.206010  0.502292  0.219422  0.215153   69.99   \n",
       "...          ...       ...       ...       ...       ...       ...     ...   \n",
       "284802  1.014480 -0.509348  1.436807  0.250034  0.943651  0.823731    0.77   \n",
       "284803  0.012463 -1.016226 -0.606624 -0.395255  0.068472 -0.053527   24.79   \n",
       "284804 -0.037501  0.640134  0.265745 -0.087371  0.004455 -0.026561   67.88   \n",
       "284805 -0.163298  0.123205 -0.569159  0.546668  0.108821  0.104533   10.00   \n",
       "284806  0.376777  0.008797 -0.473649 -0.818267 -0.002415  0.013649  217.00   \n",
       "\n",
       "        Class  \n",
       "0           0  \n",
       "1           0  \n",
       "2           0  \n",
       "3           0  \n",
       "4           0  \n",
       "...       ...  \n",
       "284802      0  \n",
       "284803      0  \n",
       "284804      0  \n",
       "284805      0  \n",
       "284806      0  \n",
       "\n",
       "[284807 rows x 31 columns]"
      ]
     },
     "execution_count": 4,
     "metadata": {},
     "output_type": "execute_result"
    }
   ],
   "source": [
    "df"
   ]
  },
  {
   "cell_type": "markdown",
   "id": "bf4fa3ea-6ab2-48f9-b456-01334b05ae11",
   "metadata": {},
   "source": [
    "## **Task1: Data Exploration and Preprocessing**"
   ]
  },
  {
   "cell_type": "markdown",
   "id": "4f146b73-ad8a-4ca3-ac9b-d6cc06d7e09d",
   "metadata": {},
   "source": [
    "### **1.1 Exploratory data analysis (EDA)**"
   ]
  },
  {
   "cell_type": "markdown",
   "id": "06cbb72e-249a-43fe-ab85-69fe9e50dbea",
   "metadata": {},
   "source": [
    "#### **1.1.1 Basic dataset info**"
   ]
  },
  {
   "cell_type": "code",
   "execution_count": 5,
   "id": "5c072b88-019e-4c8d-a09a-75d04c01b348",
   "metadata": {},
   "outputs": [
    {
     "name": "stdout",
     "output_type": "stream",
     "text": [
      "Dataset shape: (284807, 31)\n",
      "<class 'pandas.core.frame.DataFrame'>\n",
      "RangeIndex: 284807 entries, 0 to 284806\n",
      "Data columns (total 31 columns):\n",
      " #   Column  Non-Null Count   Dtype  \n",
      "---  ------  --------------   -----  \n",
      " 0   Time    284807 non-null  float64\n",
      " 1   V1      284807 non-null  float64\n",
      " 2   V2      284807 non-null  float64\n",
      " 3   V3      284807 non-null  float64\n",
      " 4   V4      284807 non-null  float64\n",
      " 5   V5      284807 non-null  float64\n",
      " 6   V6      284807 non-null  float64\n",
      " 7   V7      284807 non-null  float64\n",
      " 8   V8      284807 non-null  float64\n",
      " 9   V9      284807 non-null  float64\n",
      " 10  V10     284807 non-null  float64\n",
      " 11  V11     284807 non-null  float64\n",
      " 12  V12     284807 non-null  float64\n",
      " 13  V13     284807 non-null  float64\n",
      " 14  V14     284807 non-null  float64\n",
      " 15  V15     284807 non-null  float64\n",
      " 16  V16     284807 non-null  float64\n",
      " 17  V17     284807 non-null  float64\n",
      " 18  V18     284807 non-null  float64\n",
      " 19  V19     284807 non-null  float64\n",
      " 20  V20     284807 non-null  float64\n",
      " 21  V21     284807 non-null  float64\n",
      " 22  V22     284807 non-null  float64\n",
      " 23  V23     284807 non-null  float64\n",
      " 24  V24     284807 non-null  float64\n",
      " 25  V25     284807 non-null  float64\n",
      " 26  V26     284807 non-null  float64\n",
      " 27  V27     284807 non-null  float64\n",
      " 28  V28     284807 non-null  float64\n",
      " 29  Amount  284807 non-null  float64\n",
      " 30  Class   284807 non-null  int64  \n",
      "dtypes: float64(30), int64(1)\n",
      "memory usage: 67.4 MB\n",
      "None\n",
      "                Time            V1            V2            V3            V4  \\\n",
      "count  284807.000000  2.848070e+05  2.848070e+05  2.848070e+05  2.848070e+05   \n",
      "mean    94813.859575  1.168375e-15  3.416908e-16 -1.379537e-15  2.074095e-15   \n",
      "std     47488.145955  1.958696e+00  1.651309e+00  1.516255e+00  1.415869e+00   \n",
      "min         0.000000 -5.640751e+01 -7.271573e+01 -4.832559e+01 -5.683171e+00   \n",
      "25%     54201.500000 -9.203734e-01 -5.985499e-01 -8.903648e-01 -8.486401e-01   \n",
      "50%     84692.000000  1.810880e-02  6.548556e-02  1.798463e-01 -1.984653e-02   \n",
      "75%    139320.500000  1.315642e+00  8.037239e-01  1.027196e+00  7.433413e-01   \n",
      "max    172792.000000  2.454930e+00  2.205773e+01  9.382558e+00  1.687534e+01   \n",
      "\n",
      "                 V5            V6            V7            V8            V9  \\\n",
      "count  2.848070e+05  2.848070e+05  2.848070e+05  2.848070e+05  2.848070e+05   \n",
      "mean   9.604066e-16  1.487313e-15 -5.556467e-16  1.213481e-16 -2.406331e-15   \n",
      "std    1.380247e+00  1.332271e+00  1.237094e+00  1.194353e+00  1.098632e+00   \n",
      "min   -1.137433e+02 -2.616051e+01 -4.355724e+01 -7.321672e+01 -1.343407e+01   \n",
      "25%   -6.915971e-01 -7.682956e-01 -5.540759e-01 -2.086297e-01 -6.430976e-01   \n",
      "50%   -5.433583e-02 -2.741871e-01  4.010308e-02  2.235804e-02 -5.142873e-02   \n",
      "75%    6.119264e-01  3.985649e-01  5.704361e-01  3.273459e-01  5.971390e-01   \n",
      "max    3.480167e+01  7.330163e+01  1.205895e+02  2.000721e+01  1.559499e+01   \n",
      "\n",
      "       ...           V21           V22           V23           V24  \\\n",
      "count  ...  2.848070e+05  2.848070e+05  2.848070e+05  2.848070e+05   \n",
      "mean   ...  1.654067e-16 -3.568593e-16  2.578648e-16  4.473266e-15   \n",
      "std    ...  7.345240e-01  7.257016e-01  6.244603e-01  6.056471e-01   \n",
      "min    ... -3.483038e+01 -1.093314e+01 -4.480774e+01 -2.836627e+00   \n",
      "25%    ... -2.283949e-01 -5.423504e-01 -1.618463e-01 -3.545861e-01   \n",
      "50%    ... -2.945017e-02  6.781943e-03 -1.119293e-02  4.097606e-02   \n",
      "75%    ...  1.863772e-01  5.285536e-01  1.476421e-01  4.395266e-01   \n",
      "max    ...  2.720284e+01  1.050309e+01  2.252841e+01  4.584549e+00   \n",
      "\n",
      "                V25           V26           V27           V28         Amount  \\\n",
      "count  2.848070e+05  2.848070e+05  2.848070e+05  2.848070e+05  284807.000000   \n",
      "mean   5.340915e-16  1.683437e-15 -3.660091e-16 -1.227390e-16      88.349619   \n",
      "std    5.212781e-01  4.822270e-01  4.036325e-01  3.300833e-01     250.120109   \n",
      "min   -1.029540e+01 -2.604551e+00 -2.256568e+01 -1.543008e+01       0.000000   \n",
      "25%   -3.171451e-01 -3.269839e-01 -7.083953e-02 -5.295979e-02       5.600000   \n",
      "50%    1.659350e-02 -5.213911e-02  1.342146e-03  1.124383e-02      22.000000   \n",
      "75%    3.507156e-01  2.409522e-01  9.104512e-02  7.827995e-02      77.165000   \n",
      "max    7.519589e+00  3.517346e+00  3.161220e+01  3.384781e+01   25691.160000   \n",
      "\n",
      "               Class  \n",
      "count  284807.000000  \n",
      "mean        0.001727  \n",
      "std         0.041527  \n",
      "min         0.000000  \n",
      "25%         0.000000  \n",
      "50%         0.000000  \n",
      "75%         0.000000  \n",
      "max         1.000000  \n",
      "\n",
      "[8 rows x 31 columns]\n"
     ]
    }
   ],
   "source": [
    "print(\"Dataset shape:\", df.shape)\n",
    "print(df.info())\n",
    "print(df.describe())"
   ]
  },
  {
   "cell_type": "markdown",
   "id": "be2bdb6f-d4b6-49d6-a3d9-24e408c15307",
   "metadata": {},
   "source": [
    "**Feature Characteristics**\n",
    "\n",
    "- **All features are numerical.**\n",
    "- Most features are the result of **PCA transformation**, named as `V1` to `V28`.\n",
    "- Only a few columns are in their original form:\n",
    "\n",
    "  - `Time`: Seconds elapsed between this transaction and the first transaction in the dataset.\n",
    "  - `Amount`: Transaction amount.\n",
    "  - `Class`: Target variable:\n",
    "    - `0`: Legitimate transaction\n",
    "    - `1`: Fraudulent transaction\n"
   ]
  },
  {
   "cell_type": "markdown",
   "id": "1a553ca5-3675-4d26-8f85-c9de317dcc71",
   "metadata": {},
   "source": [
    "#### **1.1.2 Check Feature Distribution**"
   ]
  },
  {
   "cell_type": "markdown",
   "id": "2afaab51-6389-4660-90fb-aacc060ed017",
   "metadata": {},
   "source": [
    "#### **Class Distribution (Target variable)**"
   ]
  },
  {
   "cell_type": "code",
   "execution_count": 6,
   "id": "715bc7b8",
   "metadata": {},
   "outputs": [
    {
     "name": "stdout",
     "output_type": "stream",
     "text": [
      "Class distribution:\n",
      "Class\n",
      "0    284315\n",
      "1       492\n",
      "Name: count, dtype: int64\n",
      "Fraud percentage: 0.1727485630620034 %\n"
     ]
    }
   ],
   "source": [
    "# Check class distribution\n",
    "print(\"Class distribution:\")\n",
    "print(df['Class'].value_counts())\n",
    "print(\"Fraud percentage:\", df['Class'].mean() * 100, \"%\")"
   ]
  },
  {
   "cell_type": "code",
   "execution_count": 7,
   "id": "c3b242d4",
   "metadata": {},
   "outputs": [
    {
     "data": {
      "image/png": "[encoded data removed]",
      "text/plain": [
       "<Figure size 800x600 with 1 Axes>"
      ]
     },
     "metadata": {},
     "output_type": "display_data"
    }
   ],
   "source": [
    "# Visualize class distribution\n",
    "plt.figure(figsize=(8, 6))\n",
    "sns.countplot(x='Class', data=df)\n",
    "plt.title('Class Distribution (0: Normal, 1: Fraud)')\n",
    "plt.show()"
   ]
  },
  {
   "cell_type": "markdown",
   "id": "4c095c58-b53a-4801-9594-8bd139ed7a5a",
   "metadata": {},
   "source": [
    "- Total number of transaction records: **284,807**\n",
    "- Number of fraud cases (`Class = 1`): **492**\n",
    "- Fraud cases proportion: **0.172%**\n",
    "- The dataset is **extremely imbalanced**, with fraud cases being a tiny minority.\n",
    "\n",
    "| Class | Label        | Count | Percentage |\n",
    "|-------|--------------|-------|------------|\n",
    "| 0     | Non-Fraud    | 284,315 | 99.827%    |\n",
    "| 1     | Fraudulent   | 492     | 0.172%     |\n",
    "\n",
    "---\n",
    "\n",
    "\n",
    "**Caveat**\n",
    "\n",
    "- Due to the severe class imbalance:\n",
    "  - Accuracy is **not a reliable metric**.\n",
    "  - Emphasis should be placed on metrics such as **Precision**, **Recall**, **F1-Score**, and **ROC-AUC**."
   ]
  },
  {
   "cell_type": "markdown",
   "id": "a01be3ec-a157-4790-b303-5287d2098a70",
   "metadata": {},
   "source": [
    "#### **Amount Distribution**"
   ]
  },
  {
   "cell_type": "markdown",
   "id": "f985713e-c4ff-40a8-a943-1be0b02416b0",
   "metadata": {},
   "source": [
    "**Exploration: Fraud vs. Transaction Amount**"
   ]
  },
  {
   "cell_type": "code",
   "execution_count": 8,
   "id": "9673005a-6369-44fe-8054-853d74d7933c",
   "metadata": {},
   "outputs": [
    {
     "data": {
      "image/png": "[encoded data removed]",
      "text/plain": [
       "<Figure size 800x600 with 1 Axes>"
      ]
     },
     "metadata": {},
     "output_type": "display_data"
    }
   ],
   "source": [
    "plt.figure(figsize=(8, 6))\n",
    "sns.boxplot(x='Class', y='Amount', data=df)\n",
    "plt.yscale('log')  # using a logarithmic scale makes it more intuitive.\n",
    "plt.title(\"Transaction Amount Distribution by Class (Log Scale)\")\n",
    "plt.xlabel(\"Class (0 = Normal, 1 = Fraud)\")\n",
    "plt.ylabel(\"Transaction Amount\")\n",
    "plt.show()"
   ]
  },
  {
   "cell_type": "code",
   "execution_count": 9,
   "id": "82ba7e4b-be13-45a4-bbc7-b67012d4bf82",
   "metadata": {},
   "outputs": [
    {
     "data": {
      "text/html": [
       "<div>\n",
       "<style scoped>\n",
       "    .dataframe tbody tr th:only-of-type {\n",
       "        vertical-align: middle;\n",
       "    }\n",
       "\n",
       "    .dataframe tbody tr th {\n",
       "        vertical-align: top;\n",
       "    }\n",
       "\n",
       "    .dataframe thead th {\n",
       "        text-align: right;\n",
       "    }\n",
       "</style>\n",
       "<table border=\"1\" class=\"dataframe\">\n",
       "  <thead>\n",
       "    <tr style=\"text-align: right;\">\n",
       "      <th></th>\n",
       "      <th>count</th>\n",
       "      <th>mean</th>\n",
       "      <th>std</th>\n",
       "      <th>min</th>\n",
       "      <th>25%</th>\n",
       "      <th>50%</th>\n",
       "      <th>75%</th>\n",
       "      <th>max</th>\n",
       "    </tr>\n",
       "    <tr>\n",
       "      <th>Class</th>\n",
       "      <th></th>\n",
       "      <th></th>\n",
       "      <th></th>\n",
       "      <th></th>\n",
       "      <th></th>\n",
       "      <th></th>\n",
       "      <th></th>\n",
       "      <th></th>\n",
       "    </tr>\n",
       "  </thead>\n",
       "  <tbody>\n",
       "    <tr>\n",
       "      <th>0</th>\n",
       "      <td>284315.0</td>\n",
       "      <td>88.291022</td>\n",
       "      <td>250.105092</td>\n",
       "      <td>0.0</td>\n",
       "      <td>5.65</td>\n",
       "      <td>22.00</td>\n",
       "      <td>77.05</td>\n",
       "      <td>25691.16</td>\n",
       "    </tr>\n",
       "    <tr>\n",
       "      <th>1</th>\n",
       "      <td>492.0</td>\n",
       "      <td>122.211321</td>\n",
       "      <td>256.683288</td>\n",
       "      <td>0.0</td>\n",
       "      <td>1.00</td>\n",
       "      <td>9.25</td>\n",
       "      <td>105.89</td>\n",
       "      <td>2125.87</td>\n",
       "    </tr>\n",
       "  </tbody>\n",
       "</table>\n",
       "</div>"
      ],
      "text/plain": [
       "          count        mean         std  min   25%    50%     75%       max\n",
       "Class                                                                      \n",
       "0      284315.0   88.291022  250.105092  0.0  5.65  22.00   77.05  25691.16\n",
       "1         492.0  122.211321  256.683288  0.0  1.00   9.25  105.89   2125.87"
      ]
     },
     "execution_count": 9,
     "metadata": {},
     "output_type": "execute_result"
    }
   ],
   "source": [
    "df.groupby('Class')['Amount'].describe()"
   ]
  },
  {
   "cell_type": "markdown",
   "id": "3c823003-8403-493f-a8da-abae95092e5d",
   "metadata": {},
   "source": [
    "**Key observations**\n",
    "1. **Fraudulent Transactions Tend to Be Smaller on Average**\n",
    "- Median amount for fraudulent transactions (Class = 1): ~9.25\n",
    "- Median for normal transactions (Class = 0): ~22.00\n",
    "- This suggests frauds are not necessarily associated with high transaction amounts — in fact, they often **target smaller amounts**, possibly to **avoid detection**.\n",
    "\n",
    "2. **Smaller Spread in Fraudulent Amounts**\n",
    "- According to the boxplot, legal transactions show a wider range than fraud transactions."
   ]
  },
  {
   "cell_type": "markdown",
   "id": "2a5d76d8-3c4a-48fc-a9af-030fa2e3dba6",
   "metadata": {},
   "source": [
    "**Overall Distribution**"
   ]
  },
  {
   "cell_type": "code",
   "execution_count": 10,
   "id": "99bc2d0d-7133-4a13-8fb7-fab2b87e09d2",
   "metadata": {},
   "outputs": [
    {
     "data": {
      "image/png": "[encoded data removed]",
      "text/plain": [
       "<Figure size 1000x600 with 1 Axes>"
      ]
     },
     "metadata": {},
     "output_type": "display_data"
    }
   ],
   "source": [
    "# Filter to focus on more common transaction sizes\n",
    "filtered_amount = df[df['Amount'] < 1000]\n",
    "\n",
    "plt.figure(figsize=(10, 6))\n",
    "sns.histplot(filtered_amount['Amount'], bins=50, kde=True, color='skyblue')\n",
    "plt.title('Distribution of Transaction Amounts (Under $1000)')\n",
    "plt.xlabel('Amount')\n",
    "plt.ylabel('Frequency')\n",
    "plt.grid(True)\n",
    "plt.tight_layout()\n",
    "plt.show()"
   ]
  },
  {
   "cell_type": "markdown",
   "id": "87ea06a1-09d3-43a6-98f6-4c1aa1328255",
   "metadata": {},
   "source": [
    "- The transaction amount is **highly right skewed**, with a large number of small-value transactions and a few very large outliers. Log transformation or robust scaling may be beneficial for modeling.\n",
    "\n",
    "- According to previous statistics, the transaction amounts range from **0 to 25,691.16**, showing a wide spread and high variability.\n",
    "\n",
    "- The 25th and 75th percentiles are 5.60 and 77.17 respectively, meaning that **50%** of transactions fall between **5.60 and 77.17** — most **transactions are small**."
   ]
  },
  {
   "cell_type": "markdown",
   "id": "1d560e6b-c8bd-43ae-8dca-5ddf868bd8dd",
   "metadata": {},
   "source": [
    "**Log transformation**"
   ]
  },
  {
   "cell_type": "markdown",
   "id": "4953a4ad-80d4-4595-a24d-7b9dbc2a53f4",
   "metadata": {},
   "source": [
    "To prepare the feature `Amount` for machine learning, we applied a **logarithmic transformation** to the original values. This step is crucial because the raw transaction amounts are highly skewed. Such skewness can negatively **affect model performance**, especially for algorithms **sensitive to feature distributions** (e.g., linear regression or neural networks)."
   ]
  },
  {
   "cell_type": "code",
   "execution_count": 11,
   "id": "96952661-d88d-4a93-ac4d-62cab9132e40",
   "metadata": {},
   "outputs": [],
   "source": [
    "df['Amount'] = np.log1p(df['Amount'])"
   ]
  },
  {
   "cell_type": "code",
   "execution_count": 12,
   "id": "849293b6-6b58-404a-a435-a1bc9a6a70da",
   "metadata": {},
   "outputs": [
    {
     "data": {
      "image/png": "[encoded data removed]",
      "text/plain": [
       "<Figure size 1000x600 with 1 Axes>"
      ]
     },
     "metadata": {},
     "output_type": "display_data"
    }
   ],
   "source": [
    "# Filter to focus on more common transaction sizes\n",
    "filtered_amount = df[df['Amount'] < 1000]\n",
    "\n",
    "plt.figure(figsize=(10, 6))\n",
    "sns.histplot(filtered_amount['Amount'], bins=50, kde=True, color='skyblue')\n",
    "plt.title('Distribution of Transaction Amounts (Under $1000)')\n",
    "plt.xlabel('Amount')\n",
    "plt.ylabel('Frequency')\n",
    "plt.grid(True)\n",
    "plt.tight_layout()\n",
    "plt.show()"
   ]
  },
  {
   "cell_type": "markdown",
   "id": "f09220ab-129e-4270-b264-509208d815f5",
   "metadata": {},
   "source": [
    "After applying the log transformation, the distribution of `Amoount` becomes **significantly more normalized and compact**, as shown in the plot. This helps stabilize variance, reduces the impact of extreme outliers, and generally improves the performance and convergence of machine learning models. "
   ]
  },
  {
   "cell_type": "markdown",
   "id": "526caeed",
   "metadata": {},
   "source": [
    "#### **Time Distribution**"
   ]
  },
  {
   "cell_type": "code",
   "execution_count": 13,
   "id": "10ed96f8",
   "metadata": {},
   "outputs": [
    {
     "data": {
      "image/png": "[encoded data removed]",
      "text/plain": [
       "<Figure size 1000x600 with 2 Axes>"
      ]
     },
     "metadata": {},
     "output_type": "display_data"
    }
   ],
   "source": [
    "# Analyze Time feature\n",
    "plt.figure(figsize=(10, 6))\n",
    "plt.subplot(1, 2, 1)\n",
    "sns.histplot(df[df['Class'] == 0]['Time'], kde=True)\n",
    "plt.title('Time Distribution - Normal')\n",
    "plt.subplot(1, 2, 2)\n",
    "sns.histplot(df[df['Class'] == 1]['Time'], kde=True)\n",
    "plt.title('Time Distribution - Fraud')\n",
    "plt.tight_layout()\n",
    "plt.show()"
   ]
  },
  {
   "cell_type": "markdown",
   "id": "86ed9550-f512-4f28-b181-18642e61c273",
   "metadata": {},
   "source": [
    "- The original Time feature represents **elapsed seconds** since the first transaction, but is not directly interpretable.\n",
    "\n",
    "- To **uncover potential patterns** in user or fraudster behavior, we **converted it into Hour of the Day**, and grouped transactions by **time bins** (e.g., Night, Morning, Afternoon, Evening). This helps the model **learn time-dependent fraud patterns** and avoids overfitting to uninterpretable raw values."
   ]
  },
  {
   "cell_type": "code",
   "execution_count": 14,
   "id": "55e5a788-1703-47e1-9137-ec7e7a756906",
   "metadata": {},
   "outputs": [],
   "source": [
    "# Create 'Hour' feature from 'Time'\n",
    "df['Hour'] = (df['Time'] % 86400) // 3600  # integer division to get hour of day\n",
    "\n",
    "# Optional: create time of day bins\n",
    "def time_bin(hour):\n",
    "    if 0 <= hour < 6:\n",
    "        return 'Night'\n",
    "    elif 6 <= hour < 12:\n",
    "        return 'Morning'\n",
    "    elif 12 <= hour < 18:\n",
    "        return 'Afternoon'\n",
    "    else:\n",
    "        return 'Evening'\n",
    "\n",
    "df['TimeBin'] = df['Hour'].apply(time_bin)\n",
    "df.drop(columns=['Time'], inplace=True)"
   ]
  },
  {
   "cell_type": "markdown",
   "id": "856eb4f3-2a0c-4ccc-979e-80dd3b7c02a8",
   "metadata": {},
   "source": [
    "We fist plot the Overall Transaction Count by Hour to check Time variable after transformation. "
   ]
  },
  {
   "cell_type": "code",
   "execution_count": 15,
   "id": "cd5beb00-5fbf-48e7-9446-fde97ff63929",
   "metadata": {},
   "outputs": [
    {
     "data": {
      "image/png": "[encoded data removed]",
      "text/plain": [
       "<Figure size 1000x600 with 1 Axes>"
      ]
     },
     "metadata": {},
     "output_type": "display_data"
    }
   ],
   "source": [
    "plt.figure(figsize=(10,6))\n",
    "sns.countplot(data=df, x='Hour', color='skyblue')\n",
    "plt.title(\"Overall Transaction Count by Hour\")\n",
    "plt.xlabel(\"Hour of Day\")\n",
    "plt.ylabel(\"Transaction Count\")\n",
    "plt.tight_layout()\n",
    "plt.show()"
   ]
  },
  {
   "cell_type": "markdown",
   "id": "38a560ad-1f0f-425c-a728-b4247cf835c9",
   "metadata": {},
   "source": [
    "We further plot fraud transaction by hour and the time of the day to explore any specific patterns."
   ]
  },
  {
   "cell_type": "markdown",
   "id": "125e1a22-4186-48b3-b597-1959bf4e92ba",
   "metadata": {},
   "source": [
    "**Fraud Transaction Count by Hour**"
   ]
  },
  {
   "cell_type": "code",
   "execution_count": 16,
   "id": "ee4b6a65-12ad-4e4e-b59d-7e3713e892a3",
   "metadata": {},
   "outputs": [
    {
     "data": {
      "image/png": "[encoded data removed]",
      "text/plain": [
       "<Figure size 1000x600 with 1 Axes>"
      ]
     },
     "metadata": {},
     "output_type": "display_data"
    }
   ],
   "source": [
    "plt.figure(figsize=(10,6))\n",
    "sns.countplot(data=df[df['Class'] == 1], x='Hour', color='salmon')\n",
    "plt.title(\"Fraud Transaction Count by Hour\")\n",
    "plt.xlabel(\"Hour of Day\")\n",
    "plt.ylabel(\"Fraud Count\")\n",
    "plt.tight_layout()\n",
    "plt.show()"
   ]
  },
  {
   "cell_type": "markdown",
   "id": "a6e5515b-f364-4655-8df8-6de0d51e7a17",
   "metadata": {},
   "source": [
    "**Observations**\n",
    "- We observe **two significant spikes** — around **2 AM and 11 AM**, which could suggest specific high-risk windows where fraudulent behavior is more likely to occur.\n",
    "- These may correspond to times when users are less vigilant (late night) or when systems might be experiencing high volume (late morning), offering fraudsters better opportunities.\n",
    "- Overall, fraud counts **vary considerably by hour**, indicating that hour-level granularity may provide valuable signals to the model."
   ]
  },
  {
   "cell_type": "markdown",
   "id": "87a834e6-129f-4d8c-9fc2-0ff7e6eeda24",
   "metadata": {},
   "source": [
    "**Fraud Transaction Count by Time of Day**"
   ]
  },
  {
   "cell_type": "code",
   "execution_count": 17,
   "id": "ba2ab98b-2430-4362-b063-a857676dd5ca",
   "metadata": {},
   "outputs": [
    {
     "data": {
      "image/png": "[encoded data removed]",
      "text/plain": [
       "<Figure size 800x500 with 1 Axes>"
      ]
     },
     "metadata": {},
     "output_type": "display_data"
    }
   ],
   "source": [
    "# Set plot size and style\n",
    "plt.figure(figsize=(8, 5))\n",
    "sns.countplot(data=df[df['Class'] == 1], x='TimeBin', order=['Morning', 'Afternoon', 'Evening', 'Night'], color='tomato')\n",
    "\n",
    "# Add titles and labels\n",
    "plt.title(\"Fraud Transaction Count by Time of Day\")\n",
    "plt.xlabel(\"Time of Day\")\n",
    "plt.ylabel(\"Number of Fraud Transactions\")\n",
    "plt.tight_layout()\n",
    "plt.show()"
   ]
  },
  {
   "cell_type": "markdown",
   "id": "c3cba451-501b-46ad-b866-a8683dc68ff0",
   "metadata": {},
   "source": [
    "- The chart shows that fraudulent transactions are fairly evenly distributed across these bins, but with slightly **higher during the Afternoon and Night** periods.\n",
    "- This suggests that overall fraud tends to be more uniformly spread throughout the day, making TimeBin a more stable feature that helps reduce noise and prevents overfitting compared to using raw hour values."
   ]
  },
  {
   "cell_type": "markdown",
   "id": "7e24fd5f-724d-49f1-ac86-c7f82d7ab81f",
   "metadata": {},
   "source": [
    "#### **1.1.3 Missing Value**"
   ]
  },
  {
   "cell_type": "code",
   "execution_count": 18,
   "id": "bf9112d4",
   "metadata": {},
   "outputs": [
    {
     "name": "stdout",
     "output_type": "stream",
     "text": [
      "Missing values: 0\n"
     ]
    }
   ],
   "source": [
    "# Check for missing values\n",
    "print(\"Missing values:\", df.isnull().sum().sum())"
   ]
  },
  {
   "cell_type": "markdown",
   "id": "30c1f3f7-8c2b-4677-94b7-399ffc119359",
   "metadata": {},
   "source": [
    "- We checked for missing values and confirmed that **there are no missing values** across the dataset. Therefore, no imputation is necessary, and we can proceed directly to the next steps."
   ]
  },
  {
   "cell_type": "markdown",
   "id": "7110aac4-b00d-4c52-a139-c7c20a2cf806",
   "metadata": {},
   "source": [
    "### **1.2 Data partitioning**"
   ]
  },
  {
   "cell_type": "markdown",
   "id": "105edfed-0e9b-452a-a132-f08bdb7ab990",
   "metadata": {},
   "source": [
    "The dataset contains a total of **284,807 transaction records**. Given the large sample size and the highly imbalanced nature of the data, we split the dataset into **70% training, 15% validation, and 15% testing** sets using **stratified sampling**. This ensures that each subset maintains the same class distribution, which is critical for detecting minority class fraud patterns."
   ]
  },
  {
   "cell_type": "code",
   "execution_count": 19,
   "id": "6a2bd485-f385-4377-82b9-8a542f8f3bc1",
   "metadata": {},
   "outputs": [
    {
     "name": "stdout",
     "output_type": "stream",
     "text": [
      "Train Fraud Ratio: 0.00173, Total: 199364 samples\n",
      "Validation Fraud Ratio: 0.00173, Total: 42721 samples\n",
      "Test Fraud Ratio: 0.00173, Total: 42722 samples\n"
     ]
    }
   ],
   "source": [
    "from sklearn.model_selection import train_test_split\n",
    "\n",
    "X = df.drop('Class', axis=1)\n",
    "y = df['Class']\n",
    "\n",
    "# 70% Train, 30% Temp (Val + Test)\n",
    "X_train, X_temp, y_train, y_temp = train_test_split(\n",
    "    X, y, test_size=0.30, stratify=y, random_state=42)\n",
    "\n",
    "X_val, X_test, y_val, y_test = train_test_split(\n",
    "    X_temp, y_temp, test_size=0.50, stratify=y_temp, random_state=42)\n",
    "\n",
    "# Print the proportion of fraud samples in each subset.\n",
    "for name, labels in zip(['Train', 'Validation', 'Test'], [y_train, y_val, y_test]):\n",
    "    print(f\"{name} Fraud Ratio: {labels.mean():.5f}, Total: {len(labels)} samples\")\n"
   ]
  },
  {
   "cell_type": "markdown",
   "id": "4584360d-5db2-45b6-b8e1-10c914f1e584",
   "metadata": {},
   "source": [
    "**Keep Original Splits for Pipeline**\n",
    "- To avoid applying preprocessing steps (e.g., encoding, scaling, resampling) multiple times, we keep a copy of the original data split (before any transformation). This allows us to build a clean and reusable pipeline without duplicating the steps that were already performed during data exploration."
   ]
  },
  {
   "cell_type": "code",
   "execution_count": 20,
   "id": "c4fc7876-4ebf-47c2-8364-fc2ed652b63d",
   "metadata": {},
   "outputs": [],
   "source": [
    "X_train_orig = X_train.copy()\n",
    "X_val_orig = X_val.copy()\n",
    "X_test_orig = X_test.copy()"
   ]
  },
  {
   "cell_type": "markdown",
   "id": "a9420dce-5f20-48a7-8381-8e406bd8b941",
   "metadata": {},
   "source": [
    "### **1.3 Feature Engineering**"
   ]
  },
  {
   "cell_type": "markdown",
   "id": "600fecb7-b42e-47fd-b326-816f03c0c7cb",
   "metadata": {},
   "source": [
    "#### **1.3.1 Encode categorical variables**"
   ]
  },
  {
   "cell_type": "code",
   "execution_count": 21,
   "id": "c3e3730a-b931-42bd-be1b-0c453fb94747",
   "metadata": {},
   "outputs": [],
   "source": [
    "from sklearn.preprocessing import OneHotEncoder\n",
    "\n",
    "categorical_features = ['TimeBin']\n",
    "\n",
    "encoder = OneHotEncoder(sparse_output=False, drop='first', handle_unknown='ignore')\n",
    "\n",
    "X_train_encoded = encoder.fit_transform(X_train[categorical_features])\n",
    "X_val_encoded = encoder.transform(X_val[categorical_features])\n",
    "X_test_encoded = encoder.transform(X_test[categorical_features])\n",
    "\n",
    "encoded_columns = encoder.get_feature_names_out(categorical_features)\n",
    "X_train_encoded = pd.DataFrame(X_train_encoded, columns=encoded_columns, index=X_train.index)\n",
    "X_val_encoded = pd.DataFrame(X_val_encoded, columns=encoded_columns, index=X_val.index)\n",
    "X_test_encoded = pd.DataFrame(X_test_encoded, columns=encoded_columns, index=X_test.index)\n",
    "\n",
    "X_train = X_train.drop(columns=categorical_features).join(X_train_encoded)\n",
    "X_val = X_val.drop(columns=categorical_features).join(X_val_encoded)\n",
    "X_test = X_test.drop(columns=categorical_features).join(X_test_encoded)"
   ]
  },
  {
   "cell_type": "markdown",
   "id": "431164c2-d818-4f5d-848f-0625c4f5658c",
   "metadata": {},
   "source": [
    "#### **1.3.2 Class Imbalance Handling**"
   ]
  },
  {
   "cell_type": "markdown",
   "id": "8de8a1be-a1db-4273-8b32-94391e0a9658",
   "metadata": {},
   "source": [
    "- We applied **hybrid method (oversample + undersample)** to stress class imbalance.\n",
    "\n",
    "- In this case, the distribution of `class` is extremely imbalance (Fraud cases proportion: **0.172%**). Apply oversample (e.g. SMOTE or ADASYN) can synthesize new fraud cases, but **risks overfitting**, especially when the minority class is tiny (as here). On the other hand, undersampling might **discard useful majority-class** data and **reduce model generalization**. <br>\n",
    "\n",
    "- **Hybrid Method**\n",
    "   - Use SMOTE to increase fraud cases to a reasonable level\n",
    "\n",
    "   - Then randomly undersample the majority class to balance, but still retain diversity\n",
    "\n"
   ]
  },
  {
   "cell_type": "code",
   "execution_count": 22,
   "id": "39b88253-d3b9-4314-8e3c-6c1b9779b9d9",
   "metadata": {},
   "outputs": [
    {
     "name": "stdout",
     "output_type": "stream",
     "text": [
      "Original training set distribution: Counter({0: 199020, 1: 344})\n",
      "Resampled training set distribution: Counter({0: 9951, 1: 9951})\n"
     ]
    }
   ],
   "source": [
    "from imblearn.over_sampling import SMOTE\n",
    "from imblearn.under_sampling import RandomUnderSampler\n",
    "from imblearn.pipeline import Pipeline\n",
    "from collections import Counter\n",
    "\n",
    "# Only sample the training set\n",
    "print(\"Original training set distribution:\", Counter(y_train))\n",
    "\n",
    "# Step 1: Oversample minority class (fraud) using SMOTE\n",
    "smote = SMOTE(sampling_strategy=0.05, random_state=42)\n",
    "\n",
    "# Step 2: Undersample majority class (non-fraud)\n",
    "under = RandomUnderSampler(sampling_strategy=1.0, random_state=42)\n",
    "\n",
    "# Combine into a pipeline\n",
    "resample_pipeline = Pipeline(steps=[\n",
    "    ('smote', smote),\n",
    "    ('under', under)\n",
    "])\n",
    "\n",
    "X_resampled, y_resampled = resample_pipeline.fit_resample(X_train, y_train)\n",
    "\n",
    "print(\"Resampled training set distribution:\", Counter(y_resampled))\n"
   ]
  },
  {
   "cell_type": "markdown",
   "id": "247c3f1d-5616-4683-8bfd-5867d679bd84",
   "metadata": {},
   "source": [
    "#### **1.3.3 Feature Scaling**"
   ]
  },
  {
   "cell_type": "code",
   "execution_count": 23,
   "id": "8d5d60bb-437b-4d1d-afe3-7d9db6695b3c",
   "metadata": {},
   "outputs": [
    {
     "data": {
      "text/html": [
       "<div>\n",
       "<style scoped>\n",
       "    .dataframe tbody tr th:only-of-type {\n",
       "        vertical-align: middle;\n",
       "    }\n",
       "\n",
       "    .dataframe tbody tr th {\n",
       "        vertical-align: top;\n",
       "    }\n",
       "\n",
       "    .dataframe thead th {\n",
       "        text-align: right;\n",
       "    }\n",
       "</style>\n",
       "<table border=\"1\" class=\"dataframe\">\n",
       "  <thead>\n",
       "    <tr style=\"text-align: right;\">\n",
       "      <th></th>\n",
       "      <th>V1</th>\n",
       "      <th>V2</th>\n",
       "      <th>V3</th>\n",
       "      <th>V4</th>\n",
       "      <th>V5</th>\n",
       "      <th>V6</th>\n",
       "      <th>V7</th>\n",
       "      <th>V8</th>\n",
       "      <th>V9</th>\n",
       "      <th>V10</th>\n",
       "      <th>...</th>\n",
       "      <th>V24</th>\n",
       "      <th>V25</th>\n",
       "      <th>V26</th>\n",
       "      <th>V27</th>\n",
       "      <th>V28</th>\n",
       "      <th>Amount</th>\n",
       "      <th>Hour</th>\n",
       "      <th>TimeBin_Evening</th>\n",
       "      <th>TimeBin_Morning</th>\n",
       "      <th>TimeBin_Night</th>\n",
       "    </tr>\n",
       "  </thead>\n",
       "  <tbody>\n",
       "    <tr>\n",
       "      <th>249927</th>\n",
       "      <td>-0.012102</td>\n",
       "      <td>0.707332</td>\n",
       "      <td>0.163334</td>\n",
       "      <td>-0.756498</td>\n",
       "      <td>0.590999</td>\n",
       "      <td>-0.653429</td>\n",
       "      <td>0.844608</td>\n",
       "      <td>-0.001672</td>\n",
       "      <td>-0.184399</td>\n",
       "      <td>-0.222719</td>\n",
       "      <td>...</td>\n",
       "      <td>-0.360882</td>\n",
       "      <td>-0.494703</td>\n",
       "      <td>0.142657</td>\n",
       "      <td>0.235922</td>\n",
       "      <td>0.083758</td>\n",
       "      <td>2.095561</td>\n",
       "      <td>18.0</td>\n",
       "      <td>1.0</td>\n",
       "      <td>0.0</td>\n",
       "      <td>0.0</td>\n",
       "    </tr>\n",
       "    <tr>\n",
       "      <th>214082</th>\n",
       "      <td>1.776151</td>\n",
       "      <td>-0.184642</td>\n",
       "      <td>-2.204096</td>\n",
       "      <td>1.191668</td>\n",
       "      <td>0.614461</td>\n",
       "      <td>-1.016525</td>\n",
       "      <td>0.919254</td>\n",
       "      <td>-0.387465</td>\n",
       "      <td>-0.318277</td>\n",
       "      <td>0.517022</td>\n",
       "      <td>...</td>\n",
       "      <td>-0.342096</td>\n",
       "      <td>0.492355</td>\n",
       "      <td>-0.427682</td>\n",
       "      <td>-0.075228</td>\n",
       "      <td>-0.056755</td>\n",
       "      <td>5.017280</td>\n",
       "      <td>14.0</td>\n",
       "      <td>0.0</td>\n",
       "      <td>0.0</td>\n",
       "      <td>0.0</td>\n",
       "    </tr>\n",
       "    <tr>\n",
       "      <th>106005</th>\n",
       "      <td>-1.083391</td>\n",
       "      <td>-4.440527</td>\n",
       "      <td>-1.399530</td>\n",
       "      <td>0.469764</td>\n",
       "      <td>-2.076458</td>\n",
       "      <td>-0.766137</td>\n",
       "      <td>1.601441</td>\n",
       "      <td>-0.709176</td>\n",
       "      <td>-1.288745</td>\n",
       "      <td>0.086419</td>\n",
       "      <td>...</td>\n",
       "      <td>0.505926</td>\n",
       "      <td>-0.140185</td>\n",
       "      <td>0.870190</td>\n",
       "      <td>-0.316982</td>\n",
       "      <td>0.227833</td>\n",
       "      <td>7.172801</td>\n",
       "      <td>19.0</td>\n",
       "      <td>1.0</td>\n",
       "      <td>0.0</td>\n",
       "      <td>0.0</td>\n",
       "    </tr>\n",
       "    <tr>\n",
       "      <th>58619</th>\n",
       "      <td>-0.518847</td>\n",
       "      <td>1.025087</td>\n",
       "      <td>-0.614624</td>\n",
       "      <td>-0.780959</td>\n",
       "      <td>2.474666</td>\n",
       "      <td>3.335055</td>\n",
       "      <td>0.046111</td>\n",
       "      <td>0.794249</td>\n",
       "      <td>-0.322448</td>\n",
       "      <td>0.128383</td>\n",
       "      <td>...</td>\n",
       "      <td>0.944217</td>\n",
       "      <td>-0.788017</td>\n",
       "      <td>0.039995</td>\n",
       "      <td>0.010804</td>\n",
       "      <td>0.254309</td>\n",
       "      <td>1.702928</td>\n",
       "      <td>13.0</td>\n",
       "      <td>0.0</td>\n",
       "      <td>0.0</td>\n",
       "      <td>0.0</td>\n",
       "    </tr>\n",
       "    <tr>\n",
       "      <th>191638</th>\n",
       "      <td>-0.640421</td>\n",
       "      <td>0.212171</td>\n",
       "      <td>0.283341</td>\n",
       "      <td>-1.786916</td>\n",
       "      <td>2.616127</td>\n",
       "      <td>4.024863</td>\n",
       "      <td>-0.198897</td>\n",
       "      <td>0.937087</td>\n",
       "      <td>0.474428</td>\n",
       "      <td>-0.283699</td>\n",
       "      <td>...</td>\n",
       "      <td>0.767971</td>\n",
       "      <td>-0.084221</td>\n",
       "      <td>0.612936</td>\n",
       "      <td>0.074029</td>\n",
       "      <td>-0.033344</td>\n",
       "      <td>1.702928</td>\n",
       "      <td>11.0</td>\n",
       "      <td>0.0</td>\n",
       "      <td>1.0</td>\n",
       "      <td>0.0</td>\n",
       "    </tr>\n",
       "  </tbody>\n",
       "</table>\n",
       "<p>5 rows × 33 columns</p>\n",
       "</div>"
      ],
      "text/plain": [
       "              V1        V2        V3        V4        V5        V6        V7  \\\n",
       "249927 -0.012102  0.707332  0.163334 -0.756498  0.590999 -0.653429  0.844608   \n",
       "214082  1.776151 -0.184642 -2.204096  1.191668  0.614461 -1.016525  0.919254   \n",
       "106005 -1.083391 -4.440527 -1.399530  0.469764 -2.076458 -0.766137  1.601441   \n",
       "58619  -0.518847  1.025087 -0.614624 -0.780959  2.474666  3.335055  0.046111   \n",
       "191638 -0.640421  0.212171  0.283341 -1.786916  2.616127  4.024863 -0.198897   \n",
       "\n",
       "              V8        V9       V10  ...       V24       V25       V26  \\\n",
       "249927 -0.001672 -0.184399 -0.222719  ... -0.360882 -0.494703  0.142657   \n",
       "214082 -0.387465 -0.318277  0.517022  ... -0.342096  0.492355 -0.427682   \n",
       "106005 -0.709176 -1.288745  0.086419  ...  0.505926 -0.140185  0.870190   \n",
       "58619   0.794249 -0.322448  0.128383  ...  0.944217 -0.788017  0.039995   \n",
       "191638  0.937087  0.474428 -0.283699  ...  0.767971 -0.084221  0.612936   \n",
       "\n",
       "             V27       V28    Amount  Hour  TimeBin_Evening  TimeBin_Morning  \\\n",
       "249927  0.235922  0.083758  2.095561  18.0              1.0              0.0   \n",
       "214082 -0.075228 -0.056755  5.017280  14.0              0.0              0.0   \n",
       "106005 -0.316982  0.227833  7.172801  19.0              1.0              0.0   \n",
       "58619   0.010804  0.254309  1.702928  13.0              0.0              0.0   \n",
       "191638  0.074029 -0.033344  1.702928  11.0              0.0              1.0   \n",
       "\n",
       "        TimeBin_Night  \n",
       "249927            0.0  \n",
       "214082            0.0  \n",
       "106005            0.0  \n",
       "58619             0.0  \n",
       "191638            0.0  \n",
       "\n",
       "[5 rows x 33 columns]"
      ]
     },
     "execution_count": 23,
     "metadata": {},
     "output_type": "execute_result"
    }
   ],
   "source": [
    "X_train.head()"
   ]
  },
  {
   "cell_type": "markdown",
   "id": "9b30011e-7d1f-48b8-a403-4247a5bed39e",
   "metadata": {},
   "source": [
    "- In our dataset, most features are already scaled as a result of PCA transformation. However, the **`Amount`** and **`Hour`** features were on their original scales. To ensure that all features contribute equally to the model—especially those that rely on distance metrics (e.g., logistic regression, k-NN, SMOTE)—we apply feature scaling only to Amount and Hour.\n",
    "\n",
    "- We use **StandardScaler**, which standardizes features by removing the mean and scaling to unit variance"
   ]
  },
  {
   "cell_type": "code",
   "execution_count": 24,
   "id": "46f023c8-54a9-4d91-9437-a09cb807a968",
   "metadata": {},
   "outputs": [],
   "source": [
    "from sklearn.preprocessing import StandardScaler\n",
    "\n",
    "# Columns to scale\n",
    "scale_features = ['Amount', 'Hour']\n",
    "\n",
    "# Initialize scaler\n",
    "scaler = StandardScaler()\n",
    "\n",
    "# Fit on training set only (to avoid data leakage)\n",
    "X_resampled_scaled = scaler.fit_transform(X_resampled[scale_features])\n",
    "X_val_scaled = scaler.transform(X_val[scale_features])\n",
    "X_test_scaled = scaler.transform(X_test[scale_features])\n",
    "\n",
    "# Convert to DataFrames and preserve index\n",
    "X_resampled_scaled = pd.DataFrame(X_resampled_scaled, columns=scale_features, index=X_resampled.index)\n",
    "X_val_scaled = pd.DataFrame(X_val_scaled, columns=scale_features, index=X_val.index)\n",
    "X_test_scaled = pd.DataFrame(X_test_scaled, columns=scale_features, index=X_test.index)\n",
    "\n",
    "# Replace original columns with scaled versions\n",
    "X_resampled[scale_features] = X_resampled_scaled\n",
    "X_val[scale_features] = X_val_scaled\n",
    "X_test[scale_features] = X_test_scaled"
   ]
  },
  {
   "cell_type": "code",
   "execution_count": 25,
   "id": "08e6b9c0-d34a-42eb-ba95-71d76505995a",
   "metadata": {},
   "outputs": [
    {
     "data": {
      "text/html": [
       "<div>\n",
       "<style scoped>\n",
       "    .dataframe tbody tr th:only-of-type {\n",
       "        vertical-align: middle;\n",
       "    }\n",
       "\n",
       "    .dataframe tbody tr th {\n",
       "        vertical-align: top;\n",
       "    }\n",
       "\n",
       "    .dataframe thead th {\n",
       "        text-align: right;\n",
       "    }\n",
       "</style>\n",
       "<table border=\"1\" class=\"dataframe\">\n",
       "  <thead>\n",
       "    <tr style=\"text-align: right;\">\n",
       "      <th></th>\n",
       "      <th>V1</th>\n",
       "      <th>V2</th>\n",
       "      <th>V3</th>\n",
       "      <th>V4</th>\n",
       "      <th>V5</th>\n",
       "      <th>V6</th>\n",
       "      <th>V7</th>\n",
       "      <th>V8</th>\n",
       "      <th>V9</th>\n",
       "      <th>V10</th>\n",
       "      <th>...</th>\n",
       "      <th>V24</th>\n",
       "      <th>V25</th>\n",
       "      <th>V26</th>\n",
       "      <th>V27</th>\n",
       "      <th>V28</th>\n",
       "      <th>Amount</th>\n",
       "      <th>Hour</th>\n",
       "      <th>TimeBin_Evening</th>\n",
       "      <th>TimeBin_Morning</th>\n",
       "      <th>TimeBin_Night</th>\n",
       "    </tr>\n",
       "  </thead>\n",
       "  <tbody>\n",
       "    <tr>\n",
       "      <th>249927</th>\n",
       "      <td>-0.012102</td>\n",
       "      <td>0.707332</td>\n",
       "      <td>0.163334</td>\n",
       "      <td>-0.756498</td>\n",
       "      <td>0.590999</td>\n",
       "      <td>-0.653429</td>\n",
       "      <td>0.844608</td>\n",
       "      <td>-0.001672</td>\n",
       "      <td>-0.184399</td>\n",
       "      <td>-0.222719</td>\n",
       "      <td>...</td>\n",
       "      <td>-0.360882</td>\n",
       "      <td>-0.494703</td>\n",
       "      <td>0.142657</td>\n",
       "      <td>0.235922</td>\n",
       "      <td>0.083758</td>\n",
       "      <td>2.095561</td>\n",
       "      <td>18.0</td>\n",
       "      <td>1.0</td>\n",
       "      <td>0.0</td>\n",
       "      <td>0.0</td>\n",
       "    </tr>\n",
       "    <tr>\n",
       "      <th>214082</th>\n",
       "      <td>1.776151</td>\n",
       "      <td>-0.184642</td>\n",
       "      <td>-2.204096</td>\n",
       "      <td>1.191668</td>\n",
       "      <td>0.614461</td>\n",
       "      <td>-1.016525</td>\n",
       "      <td>0.919254</td>\n",
       "      <td>-0.387465</td>\n",
       "      <td>-0.318277</td>\n",
       "      <td>0.517022</td>\n",
       "      <td>...</td>\n",
       "      <td>-0.342096</td>\n",
       "      <td>0.492355</td>\n",
       "      <td>-0.427682</td>\n",
       "      <td>-0.075228</td>\n",
       "      <td>-0.056755</td>\n",
       "      <td>5.017280</td>\n",
       "      <td>14.0</td>\n",
       "      <td>0.0</td>\n",
       "      <td>0.0</td>\n",
       "      <td>0.0</td>\n",
       "    </tr>\n",
       "    <tr>\n",
       "      <th>106005</th>\n",
       "      <td>-1.083391</td>\n",
       "      <td>-4.440527</td>\n",
       "      <td>-1.399530</td>\n",
       "      <td>0.469764</td>\n",
       "      <td>-2.076458</td>\n",
       "      <td>-0.766137</td>\n",
       "      <td>1.601441</td>\n",
       "      <td>-0.709176</td>\n",
       "      <td>-1.288745</td>\n",
       "      <td>0.086419</td>\n",
       "      <td>...</td>\n",
       "      <td>0.505926</td>\n",
       "      <td>-0.140185</td>\n",
       "      <td>0.870190</td>\n",
       "      <td>-0.316982</td>\n",
       "      <td>0.227833</td>\n",
       "      <td>7.172801</td>\n",
       "      <td>19.0</td>\n",
       "      <td>1.0</td>\n",
       "      <td>0.0</td>\n",
       "      <td>0.0</td>\n",
       "    </tr>\n",
       "    <tr>\n",
       "      <th>58619</th>\n",
       "      <td>-0.518847</td>\n",
       "      <td>1.025087</td>\n",
       "      <td>-0.614624</td>\n",
       "      <td>-0.780959</td>\n",
       "      <td>2.474666</td>\n",
       "      <td>3.335055</td>\n",
       "      <td>0.046111</td>\n",
       "      <td>0.794249</td>\n",
       "      <td>-0.322448</td>\n",
       "      <td>0.128383</td>\n",
       "      <td>...</td>\n",
       "      <td>0.944217</td>\n",
       "      <td>-0.788017</td>\n",
       "      <td>0.039995</td>\n",
       "      <td>0.010804</td>\n",
       "      <td>0.254309</td>\n",
       "      <td>1.702928</td>\n",
       "      <td>13.0</td>\n",
       "      <td>0.0</td>\n",
       "      <td>0.0</td>\n",
       "      <td>0.0</td>\n",
       "    </tr>\n",
       "    <tr>\n",
       "      <th>191638</th>\n",
       "      <td>-0.640421</td>\n",
       "      <td>0.212171</td>\n",
       "      <td>0.283341</td>\n",
       "      <td>-1.786916</td>\n",
       "      <td>2.616127</td>\n",
       "      <td>4.024863</td>\n",
       "      <td>-0.198897</td>\n",
       "      <td>0.937087</td>\n",
       "      <td>0.474428</td>\n",
       "      <td>-0.283699</td>\n",
       "      <td>...</td>\n",
       "      <td>0.767971</td>\n",
       "      <td>-0.084221</td>\n",
       "      <td>0.612936</td>\n",
       "      <td>0.074029</td>\n",
       "      <td>-0.033344</td>\n",
       "      <td>1.702928</td>\n",
       "      <td>11.0</td>\n",
       "      <td>0.0</td>\n",
       "      <td>1.0</td>\n",
       "      <td>0.0</td>\n",
       "    </tr>\n",
       "  </tbody>\n",
       "</table>\n",
       "<p>5 rows × 33 columns</p>\n",
       "</div>"
      ],
      "text/plain": [
       "              V1        V2        V3        V4        V5        V6        V7  \\\n",
       "249927 -0.012102  0.707332  0.163334 -0.756498  0.590999 -0.653429  0.844608   \n",
       "214082  1.776151 -0.184642 -2.204096  1.191668  0.614461 -1.016525  0.919254   \n",
       "106005 -1.083391 -4.440527 -1.399530  0.469764 -2.076458 -0.766137  1.601441   \n",
       "58619  -0.518847  1.025087 -0.614624 -0.780959  2.474666  3.335055  0.046111   \n",
       "191638 -0.640421  0.212171  0.283341 -1.786916  2.616127  4.024863 -0.198897   \n",
       "\n",
       "              V8        V9       V10  ...       V24       V25       V26  \\\n",
       "249927 -0.001672 -0.184399 -0.222719  ... -0.360882 -0.494703  0.142657   \n",
       "214082 -0.387465 -0.318277  0.517022  ... -0.342096  0.492355 -0.427682   \n",
       "106005 -0.709176 -1.288745  0.086419  ...  0.505926 -0.140185  0.870190   \n",
       "58619   0.794249 -0.322448  0.128383  ...  0.944217 -0.788017  0.039995   \n",
       "191638  0.937087  0.474428 -0.283699  ...  0.767971 -0.084221  0.612936   \n",
       "\n",
       "             V27       V28    Amount  Hour  TimeBin_Evening  TimeBin_Morning  \\\n",
       "249927  0.235922  0.083758  2.095561  18.0              1.0              0.0   \n",
       "214082 -0.075228 -0.056755  5.017280  14.0              0.0              0.0   \n",
       "106005 -0.316982  0.227833  7.172801  19.0              1.0              0.0   \n",
       "58619   0.010804  0.254309  1.702928  13.0              0.0              0.0   \n",
       "191638  0.074029 -0.033344  1.702928  11.0              0.0              1.0   \n",
       "\n",
       "        TimeBin_Night  \n",
       "249927            0.0  \n",
       "214082            0.0  \n",
       "106005            0.0  \n",
       "58619             0.0  \n",
       "191638            0.0  \n",
       "\n",
       "[5 rows x 33 columns]"
      ]
     },
     "execution_count": 25,
     "metadata": {},
     "output_type": "execute_result"
    }
   ],
   "source": [
    "X_train.head()"
   ]
  },
  {
   "cell_type": "markdown",
   "id": "e77744d3-4276-416b-9aad-9a7582c49657",
   "metadata": {},
   "source": [
    "#### **1.3.4 Feature Selection**"
   ]
  },
  {
   "cell_type": "markdown",
   "id": "f47ff4e1-a71b-4348-ba95-bc07d9932a63",
   "metadata": {},
   "source": [
    "**Overall Feature Correlation**"
   ]
  },
  {
   "cell_type": "code",
   "execution_count": 26,
   "id": "8c8fe0f8-c664-4a1c-9142-dec5b37760cc",
   "metadata": {},
   "outputs": [
    {
     "data": {
      "image/png": "[encoded data removed]",
      "text/plain": [
       "<Figure size 1400x1000 with 2 Axes>"
      ]
     },
     "metadata": {},
     "output_type": "display_data"
    }
   ],
   "source": [
    "import seaborn as sns\n",
    "import matplotlib.pyplot as plt\n",
    "\n",
    "# Compute correlation matrix\n",
    "corr_matrix = X_train.corr()\n",
    "\n",
    "# Set up the matplotlib figure\n",
    "plt.figure(figsize=(14,10))\n",
    "sns.heatmap(corr_matrix, cmap='coolwarm', annot=False, fmt=\".2f\", linewidths=0.5)\n",
    "plt.title(\"Correlation Matrix of Features\", fontsize=16)\n",
    "plt.show()\n"
   ]
  },
  {
   "cell_type": "markdown",
   "id": "1cae066f-80ae-4f61-b4b4-71c073445c13",
   "metadata": {},
   "source": [
    "- The heatmap shows that most features are **weakly correlated** with each other (**all below 0.75**), particularly the **PCA components** (V1 through V28). This is expected, as PCA aims to produce uncorrelated features.\n",
    "\n",
    "- The only **noticeable correlations** are between:\n",
    "  - `Hour` and some `TimeBin_` features — since TimeBin was derived from Hour.\n",
    " \n",
    "    \n",
    "- Therefore, there is **no need to remove** any features at this stage. All features can be retained for modeling."
   ]
  },
  {
   "cell_type": "markdown",
   "id": "d17f74eb-cb34-4c98-addd-a295874a5fe1",
   "metadata": {},
   "source": [
    "## **Task2: Model Development**"
   ]
  },
  {
   "cell_type": "markdown",
   "id": "f794b9e4-dc8e-4121-a8d5-a1f5f0392e88",
   "metadata": {},
   "source": [
    "### **2.1 Biuld up Pipelines**"
   ]
  },
  {
   "cell_type": "code",
   "execution_count": 27,
   "id": "52d82add-daeb-43e8-8b67-3ca992e7ebca",
   "metadata": {},
   "outputs": [],
   "source": [
    "from imblearn.pipeline import Pipeline\n",
    "from sklearn.compose import ColumnTransformer\n",
    "\n",
    "# Define categorical and numerical feature groups\n",
    "categorical_feats = ['TimeBin']\n",
    "numeric_feats = ['Amount', 'Hour']\n",
    "\n",
    "# One-hot encode categorical features\n",
    "preprocess_encode = ColumnTransformer([\n",
    "    ('cat', OneHotEncoder(drop='first', handle_unknown='ignore'), categorical_feats)\n",
    "], remainder='passthrough')  \n",
    "\n",
    "# ②Numerical scaler (applied after sampling)\n",
    "scaler = StandardScaler(with_mean=False)"
   ]
  },
  {
   "cell_type": "markdown",
   "id": "6fc7b92d-8045-4ee4-a0fb-8c15bc8036ad",
   "metadata": {},
   "source": [
    "**Define evaluation function**"
   ]
  },
  {
   "cell_type": "code",
   "execution_count": 28,
   "id": "5b6624ee-9659-45a8-a76f-17c8510db228",
   "metadata": {},
   "outputs": [],
   "source": [
    "from sklearn.metrics import classification_report, roc_auc_score, confusion_matrix\n",
    "\n",
    "def evaluate(name, model, X_train, y_train, X_test, y_test):\n",
    "    model.fit(X_train, y_train)\n",
    "    y_pred = model.predict(X_test)\n",
    "    y_prob = (model.predict_proba(X_test)[:,1] if hasattr(model, \"predict_proba\")\n",
    "              else model.decision_function(X_test))\n",
    "    print(f\"\\n=== {name} ===\")\n",
    "    print(classification_report(y_test, y_pred, zero_division=0))\n",
    "    print(\"AUC-ROC:\", roc_auc_score(y_test, y_prob))\n",
    "    print(\"Confusion Matrix:\\n\", confusion_matrix(y_test, y_pred))"
   ]
  },
  {
   "cell_type": "markdown",
   "id": "93bffeed-1ade-4dc8-a9d9-5e3da5632a29",
   "metadata": {},
   "source": [
    "### **2.1 Baseline Models**"
   ]
  },
  {
   "cell_type": "markdown",
   "id": "0c131928-3fcf-42f9-bfbd-1c13733e4f43",
   "metadata": {},
   "source": [
    "#### **2.1.1 Trivial Baseline: Majority class predictor**"
   ]
  },
  {
   "cell_type": "code",
   "execution_count": 29,
   "id": "30c11bb9-3a24-40e9-915c-66b9ef5df834",
   "metadata": {},
   "outputs": [
    {
     "name": "stdout",
     "output_type": "stream",
     "text": [
      "\n",
      "=== Dummy (Majority-Class) ===\n",
      "              precision    recall  f1-score   support\n",
      "\n",
      "           0       1.00      1.00      1.00     42648\n",
      "           1       0.00      0.00      0.00        74\n",
      "\n",
      "    accuracy                           1.00     42722\n",
      "   macro avg       0.50      0.50      0.50     42722\n",
      "weighted avg       1.00      1.00      1.00     42722\n",
      "\n",
      "AUC-ROC: 0.5\n",
      "Confusion Matrix:\n",
      " [[42648     0]\n",
      " [   74     0]]\n"
     ]
    }
   ],
   "source": [
    "from sklearn.dummy import DummyClassifier\n",
    "\n",
    "# (without sampling)\n",
    "dummy_pipe = Pipeline([\n",
    "    ('encode', preprocess_encode),       \n",
    "    ('scale', scaler),                   \n",
    "    ('clf', DummyClassifier(strategy='most_frequent', random_state=42)) \n",
    "])\n",
    "\n",
    "evaluate(\"Dummy (Majority-Class)\", dummy_pipe,\n",
    "         X_train_orig, y_train, X_test_orig, y_test)"
   ]
  },
  {
   "cell_type": "markdown",
   "id": "834060e5-4751-47e2-88a8-ca6662e0e8cf",
   "metadata": {},
   "source": [
    "- The Majority Class Predictor always predicts the majority class (Class = 0).\n",
    "\n",
    "- It achieved 100% accuracy, but **failed completely to detect any fraud cases** (Class = 1).\n",
    "\n",
    "- The AUC-ROC score is **0.5**, meaning the model has **no predictive power**—equivalent to random guessing."
   ]
  },
  {
   "cell_type": "markdown",
   "id": "18a509c4-39f0-4e7f-a717-bda6fb564338",
   "metadata": {},
   "source": [
    "#### **2.1.2 Trivial Baseline: Zero-Rule Classifier**"
   ]
  },
  {
   "cell_type": "code",
   "execution_count": 30,
   "id": "b466c81c-123a-4007-8695-56f850364325",
   "metadata": {},
   "outputs": [
    {
     "name": "stdout",
     "output_type": "stream",
     "text": [
      "\n",
      "=== Zero-Rule Baseline ===\n",
      "              precision    recall  f1-score   support\n",
      "\n",
      "           0       1.00      1.00      1.00     42648\n",
      "           1       0.00      0.00      0.00        74\n",
      "\n",
      "    accuracy                           1.00     42722\n",
      "   macro avg       0.50      0.50      0.50     42722\n",
      "weighted avg       1.00      1.00      1.00     42722\n",
      "\n",
      "AUC-ROC: 0.5\n",
      "Confusion Matrix:\n",
      " [[42648     0]\n",
      " [   74     0]]\n"
     ]
    }
   ],
   "source": [
    "zero_rule_pipe = dummy_pipe\n",
    "evaluate(\"Zero-Rule Baseline\", zero_rule_pipe,\n",
    "         X_train_orig, y_train, X_test_orig, y_test)"
   ]
  },
  {
   "cell_type": "markdown",
   "id": "4f17a79c-4d60-4e5e-b060-a13ab5daae52",
   "metadata": {},
   "source": [
    "- The model predicts only the majority class (Class = 0, i.e., non-fraud) for every transaction.\n",
    "\n",
    "- The model **fails to detect any fraud**."
   ]
  },
  {
   "cell_type": "markdown",
   "id": "29c71868-4455-46b7-adde-942aacf23606",
   "metadata": {},
   "source": [
    "#### **2.1.3 Baseline Model: Logistic Regression**"
   ]
  },
  {
   "cell_type": "markdown",
   "id": "ed6d5de6-bdb0-43af-b265-b60bcef6d2bf",
   "metadata": {},
   "source": [
    "We chose **Logistic Regression** as our baseline model as it is **simple** and **transparent**, and sets a realistic benchmark to compare with more complex models like Random Forests or XGBoost.\n",
    "\n",
    "**Initial Settings**:\n",
    "- `max_iter=1000`: Increased from the default to ensure convergence during training.\n",
    "- `random_state=42`: Ensures reproducibility of the results."
   ]
  },
  {
   "cell_type": "code",
   "execution_count": 32,
   "id": "e2ebf3c7-452d-42ea-b93a-08692d83ced5",
   "metadata": {},
   "outputs": [
    {
     "name": "stdout",
     "output_type": "stream",
     "text": [
      "\n",
      "=== LogReg (encode→SMOTE→scale) ===\n",
      "              precision    recall  f1-score   support\n",
      "\n",
      "           0       1.00      0.98      0.99     42648\n",
      "           1       0.06      0.88      0.12        74\n",
      "\n",
      "    accuracy                           0.98     42722\n",
      "   macro avg       0.53      0.93      0.55     42722\n",
      "weighted avg       1.00      0.98      0.99     42722\n",
      "\n",
      "AUC-ROC: 0.9678531232414181\n",
      "Confusion Matrix:\n",
      " [[41712   936]\n",
      " [    9    65]]\n"
     ]
    }
   ],
   "source": [
    "from sklearn.linear_model import LogisticRegression\n",
    "\n",
    "logreg_pipe = Pipeline([\n",
    "    ('encode', preprocess_encode),  # One-hot encoding\n",
    "    ('smote', SMOTE(sampling_strategy=0.05, random_state=42)),  # Oversample minority class\n",
    "    ('under', RandomUnderSampler(sampling_strategy=1.0, random_state=42)),  # Undersample majority class\n",
    "    ('scale', StandardScaler(with_mean=False)),  # Standardize numerical features (with_mean=False for sparse matrix)\n",
    "    ('clf', LogisticRegression(max_iter=1000, random_state=42))  # Logistic regression classifier\n",
    "])\n",
    "\n",
    "evaluate(\"LogReg (encode→SMOTE→scale)\", logreg_pipe,\n",
    "         X_train_orig, y_train, X_test_orig, y_test)"
   ]
  },
  {
   "cell_type": "markdown",
   "id": "74343b75-234c-49ab-a1f9-7dfc032107d8",
   "metadata": {},
   "source": [
    "The baseline model shows **high accuracy (98%)** due to the dominance of normal transactions but **struggles with detecting fraudulent transactions**, as indicated by the **low precision (0.06)** and **F1-score (0.12)** for fraud. However, the model demonstrates good overall discriminatory power with an AUC-ROC of 0.97."
   ]
  },
  {
   "cell_type": "markdown",
   "id": "0475ba99-2f39-4240-b56d-3c4e373a1985",
   "metadata": {},
   "source": [
    "### **2.2 Advanced models**"
   ]
  },
  {
   "cell_type": "markdown",
   "id": "a3cf8085-40f5-4cbd-b628-71bc22d13a7b",
   "metadata": {},
   "source": [
    "#### **2.2.1 Random Forest**"
   ]
  },
  {
   "cell_type": "code",
   "execution_count": 33,
   "id": "acb39a64-52c9-4ab7-8bc7-8be6f33f318e",
   "metadata": {},
   "outputs": [
    {
     "name": "stdout",
     "output_type": "stream",
     "text": [
      "\n",
      "=== Random Forest ===\n",
      "              precision    recall  f1-score   support\n",
      "\n",
      "           0       1.00      1.00      1.00     42648\n",
      "           1       0.49      0.85      0.62        74\n",
      "\n",
      "    accuracy                           1.00     42722\n",
      "   macro avg       0.74      0.92      0.81     42722\n",
      "weighted avg       1.00      1.00      1.00     42722\n",
      "\n",
      "AUC-ROC: 0.9773575453619068\n",
      "Confusion Matrix:\n",
      " [[42582    66]\n",
      " [   11    63]]\n"
     ]
    }
   ],
   "source": [
    "from sklearn.ensemble import RandomForestClassifier\n",
    "\n",
    "rf_pipe = Pipeline([\n",
    "    ('encode', preprocess_encode),          # One-Hot\n",
    "    ('smote',  SMOTE(sampling_strategy=0.05, random_state=42)),\n",
    "    ('under',  RandomUnderSampler(sampling_strategy=1.0, random_state=42)),\n",
    "    ('clf',    RandomForestClassifier(n_estimators=300,\n",
    "                                      max_depth=None,\n",
    "                                      random_state=42))\n",
    "])\n",
    "\n",
    "evaluate(\"Random Forest\",  rf_pipe,\n",
    "         X_train_orig, y_train, X_test_orig, y_test)"
   ]
  },
  {
   "cell_type": "markdown",
   "id": "360057ed-f1a2-4277-8026-629accfc082d",
   "metadata": {},
   "source": [
    "#### **2.2.2 XGBoost Classifier**"
   ]
  },
  {
   "cell_type": "code",
   "execution_count": 34,
   "id": "5cd0903e-3b1e-44d1-ae6a-00394ce073b2",
   "metadata": {},
   "outputs": [
    {
     "name": "stdout",
     "output_type": "stream",
     "text": [
      "\n",
      "=== XGBoost ===\n",
      "              precision    recall  f1-score   support\n",
      "\n",
      "           0       1.00      1.00      1.00     42648\n",
      "           1       0.36      0.84      0.50        74\n",
      "\n",
      "    accuracy                           1.00     42722\n",
      "   macro avg       0.68      0.92      0.75     42722\n",
      "weighted avg       1.00      1.00      1.00     42722\n",
      "\n",
      "AUC-ROC: 0.9785451426384177\n",
      "Confusion Matrix:\n",
      " [[42536   112]\n",
      " [   12    62]]\n"
     ]
    }
   ],
   "source": [
    "from xgboost import XGBClassifier  \n",
    "\n",
    "xgb_pipe = Pipeline([\n",
    "    ('encode', preprocess_encode),\n",
    "    ('smote',  SMOTE(sampling_strategy=0.05, random_state=42)),\n",
    "    ('under',  RandomUnderSampler(sampling_strategy=1.0, random_state=42)),\n",
    "    ('clf',    XGBClassifier(eval_metric='logloss',\n",
    "                              learning_rate=0.1,\n",
    "                              n_estimators=300,\n",
    "                              max_depth=6,\n",
    "                              random_state=42))\n",
    "])\n",
    "\n",
    "evaluate(\"XGBoost\", xgb_pipe,\n",
    "         X_train_orig, y_train, X_test_orig, y_test)"
   ]
  },
  {
   "cell_type": "markdown",
   "id": "ce050ed2-0417-4177-81bd-8bb193913342",
   "metadata": {},
   "source": [
    "#### **2.2.3 Support Vector Machine**"
   ]
  },
  {
   "cell_type": "code",
   "execution_count": 35,
   "id": "27d2d964-193e-48ec-8c5c-0a5233916e7f",
   "metadata": {},
   "outputs": [
    {
     "name": "stdout",
     "output_type": "stream",
     "text": [
      "\n",
      "=== SVM (linear) ===\n",
      "              precision    recall  f1-score   support\n",
      "\n",
      "           0       1.00      0.98      0.99     42648\n",
      "           1       0.06      0.86      0.12        74\n",
      "\n",
      "    accuracy                           0.98     42722\n",
      "   macro avg       0.53      0.92      0.55     42722\n",
      "weighted avg       1.00      0.98      0.99     42722\n",
      "\n",
      "AUC-ROC: 0.9705879557103531\n",
      "Confusion Matrix:\n",
      " [[41686   962]\n",
      " [   10    64]]\n"
     ]
    }
   ],
   "source": [
    "from sklearn.svm           import SVC\n",
    "\n",
    "svm_pipe = Pipeline([\n",
    "    ('encode', preprocess_encode),\n",
    "    ('smote',  SMOTE(sampling_strategy=0.05, random_state=42)),\n",
    "    ('under',  RandomUnderSampler(sampling_strategy=1.0, random_state=42)),\n",
    "    ('scale',  scaler),                             # keep with_mean=False\n",
    "    ('clf',    SVC(kernel='linear',\n",
    "                   probability=True,\n",
    "                   random_state=42))\n",
    "])\n",
    "\n",
    "evaluate(\"SVM (linear)\", svm_pipe,\n",
    "         X_train_orig, y_train, X_test_orig, y_test)"
   ]
  },
  {
   "cell_type": "markdown",
   "id": "28be237f-d420-49ca-89b3-237cc96378bb",
   "metadata": {},
   "source": [
    "#### **2.2.4 Decision Tree Classifier**"
   ]
  },
  {
   "cell_type": "code",
   "execution_count": 36,
   "id": "f5e02166-8e08-4d96-96be-bf983d3c1bab",
   "metadata": {},
   "outputs": [
    {
     "name": "stdout",
     "output_type": "stream",
     "text": [
      "\n",
      "=== Decision Tree ===\n",
      "              precision    recall  f1-score   support\n",
      "\n",
      "           0       1.00      0.98      0.99     42648\n",
      "           1       0.07      0.81      0.13        74\n",
      "\n",
      "    accuracy                           0.98     42722\n",
      "   macro avg       0.54      0.90      0.56     42722\n",
      "weighted avg       1.00      0.98      0.99     42722\n",
      "\n",
      "AUC-ROC: 0.8962021602356437\n",
      "Confusion Matrix:\n",
      " [[41863   785]\n",
      " [   14    60]]\n"
     ]
    }
   ],
   "source": [
    "from sklearn.tree import DecisionTreeClassifier\n",
    "\n",
    "dt_pipe = Pipeline([\n",
    "    ('encode', preprocess_encode),\n",
    "    ('smote',  SMOTE(sampling_strategy=0.05, random_state=42)),\n",
    "    ('under',  RandomUnderSampler(sampling_strategy=1.0, random_state=42)),\n",
    "    ('clf',    DecisionTreeClassifier(random_state=42))\n",
    "])\n",
    "\n",
    "evaluate(\"Decision Tree\",  dt_pipe,\n",
    "         X_train_orig, y_train, X_test_orig, y_test)"
   ]
  },
  {
   "cell_type": "markdown",
   "id": "e51fb7e2-2847-4082-aa38-f7454f9ca5d2",
   "metadata": {},
   "source": [
    "#### **2.2.5 Multi-layer Perceptron (MLP)**"
   ]
  },
  {
   "cell_type": "code",
   "execution_count": 37,
   "id": "0da9d1bf-6cb5-4f6d-bc45-37edf20d634e",
   "metadata": {},
   "outputs": [
    {
     "name": "stdout",
     "output_type": "stream",
     "text": [
      "\n",
      "=== Neural Net (MLP) ===\n",
      "              precision    recall  f1-score   support\n",
      "\n",
      "           0       1.00      0.99      1.00     42648\n",
      "           1       0.19      0.86      0.32        74\n",
      "\n",
      "    accuracy                           0.99     42722\n",
      "   macro avg       0.60      0.93      0.66     42722\n",
      "weighted avg       1.00      0.99      1.00     42722\n",
      "\n",
      "AUC-ROC: 0.980164463844824\n",
      "Confusion Matrix:\n",
      " [[42382   266]\n",
      " [   10    64]]\n"
     ]
    }
   ],
   "source": [
    "from sklearn.neural_network import MLPClassifier\n",
    "\n",
    "mlp_pipe = Pipeline([\n",
    "    ('encode', preprocess_encode),\n",
    "    ('smote',  SMOTE(sampling_strategy=0.05, random_state=42)),\n",
    "    ('under',  RandomUnderSampler(sampling_strategy=1.0, random_state=42)),\n",
    "    ('scale',  scaler),\n",
    "    ('clf',    MLPClassifier(hidden_layer_sizes=(100,),\n",
    "                             activation='relu',\n",
    "                             solver='adam',\n",
    "                             max_iter=1000,\n",
    "                             early_stopping=True,\n",
    "                             random_state=42))\n",
    "])\n",
    "\n",
    "evaluate(\"Neural Net (MLP)\", mlp_pipe,\n",
    "         X_train_orig, y_train, X_test_orig, y_test)"
   ]
  },
  {
   "cell_type": "markdown",
   "id": "6048d3c1-49c9-4a05-863e-27d9fd4cb446",
   "metadata": {},
   "source": [
    "## **Task3: Model Evaluation and Selection**"
   ]
  },
  {
   "cell_type": "markdown",
   "id": "ef2ed4c4-fd74-4ebd-b066-4d93e2a7aa78",
   "metadata": {},
   "source": [
    "### **3.1 Evaluation metrics**"
   ]
  },
  {
   "cell_type": "markdown",
   "id": "7d3310ea-bd95-493a-94f3-90084153b95e",
   "metadata": {},
   "source": [
    "**Metric Prioritization**"
   ]
  },
  {
   "cell_type": "markdown",
   "id": "9cea7dcf-ada7-4be8-a8f9-96e96ea35821",
   "metadata": {},
   "source": [
    "In the context of credit card fraud detection, the evaluation metrics should be prioritized as follows:\n",
    "\n",
    "**Recall > AUC-ROC > F1-Score**\n",
    "\n",
    "- **Recall** is the most important metric because the primary objective is to identify as many fraudulent transactions (positive class) as possible. Missing a fraudulent transaction (false negative) can lead to significant financial losses and reputational damage. Therefore, maximizing the true positive rate is critical.\n",
    "  \n",
    "- **AUC-ROC** comes next, as it reflects the model's overall ability to distinguish between fraudulent and legitimate transactions across all classification thresholds. A higher AUC-ROC indicates a better generalization performance and robustness in detecting fraud under varying conditions.\n",
    "\n",
    "- **F1-Score**, which balances precision and recall, is still useful for evaluating model performance, especially when classes are imbalanced. However, in this scenario, recall is valued more than precision, so F1-score plays a secondary role."
   ]
  },
  {
   "cell_type": "markdown",
   "id": "75ea7789-c65d-4ac4-bbff-6cacf49ed7fb",
   "metadata": {},
   "source": [
    "### **3.2 Model Selection for Hyperparameter Tuning**"
   ]
  },
  {
   "cell_type": "markdown",
   "id": "9e38a200-b6e4-4a6c-a76c-99583e5fa671",
   "metadata": {},
   "source": [
    "The table compares the previous performance of all trained models using **key metrics for imbalanced classification**:"
   ]
  },
  {
   "cell_type": "markdown",
   "id": "d676df6c-e9e1-401c-b26c-971255b582bd",
   "metadata": {},
   "source": [
    "| Model             | Recall  | F1-score  | AUC-ROC | Notes                          |\n",
    "|------------------|------------------|---------------------|---------|--------------------------------|\n",
    "| Dummy Baseline    | 0.00             | 0.00                | 0.50    | Predicts majority class only   |\n",
    "| Logistic Regression | 0.88           | 0.12                | 0.968   | High recall but low precision  |\n",
    "| **Random Forest**      | 0.85           | 0.62                | 0.977   | **Balanced & strong performance**  |\n",
    "| XGBoost            | 0.84           | 0.50                | 0.979   | Slightly higher AUC than RF    |\n",
    "| SVM (Linear)       | 0.86           | 0.12                | 0.971   | High recall, very low F1       |\n",
    "| Decision Tree      | 0.81           | 0.13                | 0.896   | Weakest AUC among tree models  |\n",
    "| **Neural Net (MLP)**  | 0.86           | 0.32                | 0.980   | **Best AUC, moderate F1**         |"
   ]
  },
  {
   "cell_type": "markdown",
   "id": "ab59dc15-d3f5-4ddb-86e0-31fa1d7485d5",
   "metadata": {},
   "source": [
    "**Visualization: Recall vs AUC-ROC**"
   ]
  },
  {
   "cell_type": "code",
   "execution_count": 45,
   "id": "7d0f5d9d-9fa8-4004-b228-5cf4a45fe44e",
   "metadata": {},
   "outputs": [
    {
     "data": {
      "image/png": "[encoded data removed]",
      "text/plain": [
       "<Figure size 1000x600 with 1 Axes>"
      ]
     },
     "metadata": {},
     "output_type": "display_data"
    }
   ],
   "source": [
    "# Model performance data (excluding Dummy)\n",
    "model_names = [\n",
    "    \"Logistic Regression\", \"Random Forest\", \"XGBoost\",\n",
    "    \"SVM (Linear)\", \"Decision Tree\", \"Neural Net (MLP)\"\n",
    "]\n",
    "recalls = [0.88, 0.85, 0.84, 0.86, 0.81, 0.86]\n",
    "aucs = [0.968, 0.977, 0.979, 0.971, 0.896, 0.98]\n",
    "\n",
    "# Plot\n",
    "plt.figure(figsize=(10, 6))\n",
    "plt.scatter(aucs, recalls, color='royalblue', s=100)\n",
    "\n",
    "# Annotate points with model names\n",
    "for i, name in enumerate(model_names):\n",
    "    plt.text(aucs[i] + 0.001, recalls[i], name, fontsize=9)\n",
    "\n",
    "plt.title(\"Model Comparison: Recall vs AUC-ROC\", fontsize=14)\n",
    "plt.xlabel(\"AUC-ROC\", fontsize=12)\n",
    "plt.ylabel(\"Recall (Positive Class)\", fontsize=12)\n",
    "plt.grid(True)\n",
    "plt.xlim(0.89, 1.01)\n",
    "plt.ylim(0.78, 0.90)\n",
    "plt.tight_layout()\n",
    "plt.show()"
   ]
  },
  {
   "cell_type": "markdown",
   "id": "9b2d94e2-9e87-45da-8755-a78c6e7cdf2b",
   "metadata": {},
   "source": [
    "**Visualization: F1 vs AUC-ROC**"
   ]
  },
  {
   "cell_type": "code",
   "execution_count": 52,
   "id": "3fd42c04-713d-47dc-8b81-f4c457227a23",
   "metadata": {},
   "outputs": [
    {
     "data": {
      "image/png": "[encoded data removed]",
      "text/plain": [
       "<Figure size 1000x600 with 1 Axes>"
      ]
     },
     "metadata": {},
     "output_type": "display_data"
    }
   ],
   "source": [
    "import matplotlib.pyplot as plt\n",
    "\n",
    "# Model performance data (excluding Dummy)\n",
    "model_names = [\n",
    "    \"Logistic Regression\", \"Random Forest\", \"XGBoost\",\n",
    "    \"SVM (Linear)\", \"Decision Tree\", \"Neural Net (MLP)\"\n",
    "]\n",
    "f1_scores = [0.12, 0.62, 0.50, 0.12, 0.13, 0.32]\n",
    "aucs = [0.968, 0.977, 0.979, 0.971, 0.896, 0.98]\n",
    "\n",
    "# 小偏移量，错开标签\n",
    "offsets = [0.005, 0.005, 0.005, -0.02, 0.01, 0.01]\n",
    "\n",
    "plt.figure(figsize=(10, 6))\n",
    "plt.scatter(aucs, f1_scores, color='seagreen', s=100)\n",
    "\n",
    "for i, name in enumerate(model_names):\n",
    "    plt.text(aucs[i] + 0.001, f1_scores[i] + offsets[i], name, fontsize=9)\n",
    "\n",
    "plt.title(\"Model Comparison: F1-score vs AUC-ROC\", fontsize=14)\n",
    "plt.xlabel(\"AUC-ROC\", fontsize=12)\n",
    "plt.ylabel(\"F1-score (Positive Class)\", fontsize=12)\n",
    "plt.grid(True)\n",
    "plt.xlim(0.89, 1.01)\n",
    "plt.ylim(0, 0.7)\n",
    "plt.tight_layout()\n",
    "plt.show()\n"
   ]
  },
  {
   "cell_type": "markdown",
   "id": "18cc5f3f-039f-4fe2-8bd4-473dadcc52ef",
   "metadata": {},
   "source": [
    "**Selected Models**:\n",
    "1. **Random Forest**\n",
    "  - Reason: Achieves **strong recall (0.85)** while maintaining the **best F1-score (0.62)**, indicating a good balance between detecting positives and avoiding too many false alarms. It also has high AUC-ROC (0.977), suggesting reliable generalization.\n",
    "\n",
    "2. **Neural Network (MLP)**\n",
    "  - Reason: Has slightly **higher recall (0.86)** and the **highest AUC-ROC (0.980)** of all models, meaning it has excellent ability to distinguish between classes. Although the F1-score is lower than Random Forest, it has potential for improvement with hyperparameter tuning."
   ]
  },
  {
   "cell_type": "markdown",
   "id": "c9d74a61-255f-4b9c-a4c7-33dd8e669f64",
   "metadata": {},
   "source": [
    "### **3.2 Hyperparameter tuning** "
   ]
  },
  {
   "cell_type": "markdown",
   "id": "c575b75c-af25-4ef9-ba02-0aa22a5a122b",
   "metadata": {},
   "source": [
    "- We applied **RandomizedSearchCV** for hyperparameter tuning as it is more efficient than GridSearchCV when searching over a large hyperparameter space.\n",
    "\n",
    "- It is especially **suitable for** models like **Random Forest and MLP**, where hyperparameter combinations can **grow rapidly**."
   ]
  },
  {
   "cell_type": "markdown",
   "id": "521c3275-1a33-4bbf-82d9-44faecac6dc6",
   "metadata": {},
   "source": [
    "#### **3.2.1 Random Forest Hyperparameter Tuning** "
   ]
  },
  {
   "cell_type": "markdown",
   "id": "dece1b31-ded6-49aa-b89a-0dac0374143f",
   "metadata": {},
   "source": [
    "- The number of trees (`n_estimators`) ranges from **100 to 500** to allow the ensemble to be expressive without excessive cost.\n",
    "  \n",
    "- The `max_depth` parameter includes both shallow depths and None to test unrestricted growth, which can affect overfitting.\n",
    "\n",
    "- Parameters like `min_samples_split` and `min_samples_leaf` help control tree complexity and reduce variance.\n",
    "\n",
    "- Finally, `max_features` is set to sqrt and log2, which are common for classification tasks and improve model diversity."
   ]
  },
  {
   "cell_type": "code",
   "execution_count": 38,
   "id": "c6d76bc4-5596-4a73-b573-327a66c34ab3",
   "metadata": {},
   "outputs": [
    {
     "name": "stdout",
     "output_type": "stream",
     "text": [
      "Fitting 5 folds for each of 20 candidates, totalling 100 fits\n",
      "Best Params (Random Forest): {'clf__max_depth': np.int64(20), 'clf__max_features': 'log2', 'clf__min_samples_leaf': 1, 'clf__min_samples_split': 2, 'clf__n_estimators': 158}\n",
      "Best F1 Score (CV): 0.6198886383740548\n"
     ]
    }
   ],
   "source": [
    "from sklearn.model_selection import RandomizedSearchCV\n",
    "from scipy.stats import randint\n",
    "\n",
    "# Define the hyperparameter space for Random Forest\n",
    "param_dist_rf = {\n",
    "    'clf__n_estimators': randint(100, 500),\n",
    "    'clf__max_depth': [None] + list(np.arange(5, 21, 5)),\n",
    "    'clf__min_samples_split': randint(2, 10),\n",
    "    'clf__min_samples_leaf': randint(1, 5),\n",
    "    'clf__max_features': ['sqrt', 'log2']\n",
    "}\n",
    "\n",
    "rf_search = RandomizedSearchCV(\n",
    "    rf_pipe,\n",
    "    param_distributions=param_dist_rf,\n",
    "    n_iter=20,                   # tuning budget: try 20 combinations\n",
    "    scoring='f1',                # focus on F1-score of minority class\n",
    "    cv=5,\n",
    "    verbose=2,\n",
    "    n_jobs=-1,\n",
    "    random_state=42\n",
    ")\n",
    "\n",
    "# Run search\n",
    "rf_search.fit(X_train_orig, y_train)\n",
    "\n",
    "# Best parameters\n",
    "print(\"Best Params (Random Forest):\", rf_search.best_params_)\n",
    "print(\"Best F1 Score (CV):\", rf_search.best_score_)"
   ]
  },
  {
   "cell_type": "markdown",
   "id": "c31fb794-9d1d-4461-af28-b3dc27a36d89",
   "metadata": {},
   "source": [
    "**Metrics Performance**"
   ]
  },
  {
   "cell_type": "code",
   "execution_count": 39,
   "id": "3676beaf-ad5b-4081-8e36-3f546709a8a0",
   "metadata": {},
   "outputs": [
    {
     "name": "stdout",
     "output_type": "stream",
     "text": [
      "\n",
      "=== Random Forest (Tuned) ===\n",
      "              precision    recall  f1-score   support\n",
      "\n",
      "           0       1.00      1.00      1.00     42648\n",
      "           1       0.47      0.85      0.61        74\n",
      "\n",
      "    accuracy                           1.00     42722\n",
      "   macro avg       0.73      0.92      0.80     42722\n",
      "weighted avg       1.00      1.00      1.00     42722\n",
      "\n",
      "AUC-ROC: 0.9728592196586009\n",
      "Confusion Matrix:\n",
      " [[42577    71]\n",
      " [   11    63]]\n"
     ]
    }
   ],
   "source": [
    "best_rf_pipe = Pipeline([\n",
    "    ('encode', preprocess_encode),\n",
    "    ('smote', SMOTE(sampling_strategy=0.05, random_state=42)),\n",
    "    ('under', RandomUnderSampler(sampling_strategy=1.0, random_state=42)),\n",
    "    ('clf', RandomForestClassifier(\n",
    "        n_estimators=158,\n",
    "        max_depth=20,\n",
    "        max_features='log2',\n",
    "        min_samples_split=2,\n",
    "        min_samples_leaf=1,\n",
    "        random_state=42\n",
    "    ))\n",
    "])\n",
    "\n",
    "evaluate(\"Random Forest (Tuned)\", best_rf_pipe,\n",
    "         X_train_orig, y_train, X_test_orig, y_test)"
   ]
  },
  {
   "cell_type": "markdown",
   "id": "2c74c2d0-0b24-4f84-acc8-11851473e819",
   "metadata": {},
   "source": [
    "**Parameter Comparison**"
   ]
  },
  {
   "cell_type": "markdown",
   "id": "f1101dda-3d87-4f26-bd12-464593eb74fa",
   "metadata": {},
   "source": [
    "| Parameter            | Before Tuning           | After Tuning |\n",
    "|----------------------|--------------------------|--------------------------------------|\n",
    "| `n_estimators`       | 300                      | **158** (reduced to speed up training) |\n",
    "| `max_depth`          | `None` (unlimited)       | **20** (controls overfitting)          |\n",
    "| `max_features`       | `'sqrt'` (default)       | **'log2'** (adds randomness)           |\n",
    "| `min_samples_split`  | 2                        | **2** (unchanged)                      |\n",
    "| `min_samples_leaf`   | 1                        | **1** (unchanged)                      |\n",
    "\n",
    "- The tuning process optimized tree complexity by lowering `max_depth` and `n_estimators`, reducing the risk of overfitting and improving efficiency. Switching to `'log2'` for `max_features` adds more randomness to each split, which may improve generalization."
   ]
  },
  {
   "cell_type": "markdown",
   "id": "aff5131d-da30-4ed1-a431-ef7f251ecd77",
   "metadata": {},
   "source": [
    "#### **3.2.2 MLP Hyperparameter Tuning** "
   ]
  },
  {
   "cell_type": "markdown",
   "id": "1ad3da69-b534-44f8-ba92-279a3642d6fb",
   "metadata": {},
   "source": [
    "- For MLP, we explored various hidden layer configurations, including **shallow (100,)** and deeper structures like **(50, 50) and (64, 64)**, to test model expressiveness.\n",
    "  \n",
    "- We used **relu and tanh** as activation functions, since both are widely used and may perform differently depending on data scale.\n",
    "  \n",
    "- Regularization strength alpha is sampled from a small range **(1e-5 to 1e-3)** to control overfitting.\n",
    "  \n",
    "- The learning rate is varied between **0.001 and 0.01** to allow flexible and stable convergence during training with the Adam optimizer."
   ]
  },
  {
   "cell_type": "code",
   "execution_count": 40,
   "id": "8d71148c-1fc4-40d4-b065-6673f69bc621",
   "metadata": {},
   "outputs": [
    {
     "name": "stdout",
     "output_type": "stream",
     "text": [
      "Fitting 5 folds for each of 20 candidates, totalling 100 fits\n",
      "Best Params (MLP): {'clf__activation': 'relu', 'clf__alpha': np.float64(0.0008065429868602329), 'clf__hidden_layer_sizes': (100, 50), 'clf__learning_rate_init': np.float64(0.008319939418114052)}\n",
      "Best F1 Score (CV): 0.5130418885725798\n"
     ]
    }
   ],
   "source": [
    "from scipy.stats import uniform\n",
    "\n",
    "# Define hyperparameter space for MLP\n",
    "param_dist_mlp = {\n",
    "    'clf__hidden_layer_sizes': [(100,), (50, 50), (100, 50), (64, 64)],\n",
    "    'clf__alpha': uniform(1e-5, 1e-3),  # L2 penalty\n",
    "    'clf__learning_rate_init': uniform(0.001, 0.01),\n",
    "    'clf__activation': ['relu', 'tanh']\n",
    "}\n",
    "\n",
    "mlp_search = RandomizedSearchCV(\n",
    "    mlp_pipe,\n",
    "    param_distributions=param_dist_mlp,\n",
    "    n_iter=20,                    # 20 combinations\n",
    "    scoring='f1',\n",
    "    cv=5,\n",
    "    verbose=2,\n",
    "    n_jobs=-1,\n",
    "    random_state=42\n",
    ")\n",
    "\n",
    "mlp_search.fit(X_train_orig, y_train)\n",
    "\n",
    "print(\"Best Params (MLP):\", mlp_search.best_params_)\n",
    "print(\"Best F1 Score (CV):\", mlp_search.best_score_)"
   ]
  },
  {
   "cell_type": "markdown",
   "id": "47f5afb6-5669-4611-9319-9b7af07c4895",
   "metadata": {},
   "source": [
    "**Metrics Performance**"
   ]
  },
  {
   "cell_type": "code",
   "execution_count": 41,
   "id": "4f25db1e-5146-484e-934c-09abc431f8ed",
   "metadata": {},
   "outputs": [
    {
     "name": "stdout",
     "output_type": "stream",
     "text": [
      "\n",
      "=== Neural Net (MLP, Tuned) ===\n",
      "              precision    recall  f1-score   support\n",
      "\n",
      "           0       1.00      1.00      1.00     42648\n",
      "           1       0.31      0.85      0.45        74\n",
      "\n",
      "    accuracy                           1.00     42722\n",
      "   macro avg       0.66      0.92      0.73     42722\n",
      "weighted avg       1.00      1.00      1.00     42722\n",
      "\n",
      "AUC-ROC: 0.9732904682960958\n",
      "Confusion Matrix:\n",
      " [[42508   140]\n",
      " [   11    63]]\n"
     ]
    }
   ],
   "source": [
    "best_mlp_pipe = Pipeline([\n",
    "    ('encode', preprocess_encode),\n",
    "    ('smote', SMOTE(sampling_strategy=0.05, random_state=42)),\n",
    "    ('under', RandomUnderSampler(sampling_strategy=1.0, random_state=42)),\n",
    "    ('scale', scaler),\n",
    "    ('clf', MLPClassifier(\n",
    "        hidden_layer_sizes=(100, 50),\n",
    "        activation='relu',\n",
    "        alpha=0.0008065,\n",
    "        learning_rate_init=0.0083199,\n",
    "        max_iter=1000,\n",
    "        early_stopping=True,\n",
    "        random_state=42\n",
    "    ))\n",
    "])\n",
    "\n",
    "evaluate(\"Neural Net (MLP, Tuned)\", best_mlp_pipe,\n",
    "         X_train_orig, y_train, X_test_orig, y_test)"
   ]
  },
  {
   "cell_type": "markdown",
   "id": "2be6ecee-131a-423f-9693-655b8303e44c",
   "metadata": {},
   "source": [
    "**Parameter Comparison**"
   ]
  },
  {
   "cell_type": "markdown",
   "id": "50c5b683-c511-4380-b4ee-15664b001146",
   "metadata": {},
   "source": [
    "| Parameter              | Before Tuning          | After Tuning  |\n",
    "|------------------------|-------------------------|--------------------------------------------|\n",
    "| `hidden_layer_sizes`   | (100,)                  | **(100, 50)** (adds depth)                 |\n",
    "| `activation`           | `'relu'`                | **'relu'** (unchanged)                     |\n",
    "| `alpha` (L2 penalty)   | 0.0001 (default)         | **0.0008065** (slightly more regularized)  |\n",
    "| `learning_rate_init`   | 0.001 (default)          | **0.0083** (faster convergence)            |\n",
    "\n",
    "- The tuned MLP uses a deeper architecture with two layers and a faster learning rate to help the model converge more quickly. A slightly higher `alpha` helps regularize the model to avoid overfitting."
   ]
  },
  {
   "cell_type": "markdown",
   "id": "d75edd2b-bb6a-4a1a-a6cc-797375cd4665",
   "metadata": {},
   "source": [
    "### **3.3 Model comparison** "
   ]
  },
  {
   "cell_type": "markdown",
   "id": "1442728d-5b64-4113-be30-ceafa162e394",
   "metadata": {},
   "source": [
    "#### **3.3.1 Previous Results** "
   ]
  },
  {
   "cell_type": "markdown",
   "id": "634fb2a6-3468-489b-872b-a8813c4352f2",
   "metadata": {},
   "source": [
    "| Model              | F1-score (Minority) | Recall (Minority) | Precision (Minority) | AUC-ROC  |\n",
    "|--------------------|---------------------|-------------------|---------------------|----------|\n",
    "| Random Forest (Before Tuning) | 0.62                | 0.85              | 0.49                | 0.9774   |\n",
    "| Random Forest (After Tuning)  | 0.61                | 0.85              | 0.47                | 0.9729   |\n",
    "| MLP (Before Tuning)           | 0.32                | 0.86              | 0.19                | 0.9802   |\n",
    "| MLP (After Tuning)            | 0.45                | 0.85              | 0.31                | 0.9733   |\n",
    "\n",
    "**Conclusion:**\n",
    "\n",
    "- The tuned **MLP** model shows a **significant improvement in F1-score and precision** for the minority class, indicating better balance between precision and recall after hyperparameter tuning.\n",
    "  \n",
    "- The **Random Forest** model shows very **little change** after tuning, with a slight decrease in F1-score and precision, and a small drop in AUC-ROC.\n",
    "  \n",
    "- Overall, MLP benefits more from hyperparameter tuning in this task, while Random Forest’s tuning may require further exploration or a different tuning strategy."
   ]
  },
  {
   "cell_type": "markdown",
   "id": "568240bc-e76d-4716-b9aa-ebe9bf9adb28",
   "metadata": {},
   "source": [
    "#### **3.3.2 Fine Tuning** "
   ]
  },
  {
   "cell_type": "markdown",
   "id": "7cd335de-6585-48e0-8aeb-511414f4fe61",
   "metadata": {},
   "source": [
    "The tuning **results of Random Forest** did **not** significantly improve the model performance. To further optimize it, we can consider switching to a smarter search strategy such as **Bayesian Optimization (BayesSearchCV)**, enlarging and refining the hyperparameter search space, testing the effect of class_weight='balanced'."
   ]
  },
  {
   "cell_type": "code",
   "execution_count": 43,
   "id": "0371d5e6-f8bf-44e5-9085-2ec6b9729d2f",
   "metadata": {},
   "outputs": [
    {
     "name": "stdout",
     "output_type": "stream",
     "text": [
      "Fitting 5 folds for each of 1 candidates, totalling 5 fits\n",
      "Fitting 5 folds for each of 1 candidates, totalling 5 fits\n",
      "Fitting 5 folds for each of 1 candidates, totalling 5 fits\n",
      "Fitting 5 folds for each of 1 candidates, totalling 5 fits\n",
      "Fitting 5 folds for each of 1 candidates, totalling 5 fits\n",
      "Fitting 5 folds for each of 1 candidates, totalling 5 fits\n",
      "Fitting 5 folds for each of 1 candidates, totalling 5 fits\n",
      "Fitting 5 folds for each of 1 candidates, totalling 5 fits\n",
      "Fitting 5 folds for each of 1 candidates, totalling 5 fits\n",
      "Fitting 5 folds for each of 1 candidates, totalling 5 fits\n",
      "Fitting 5 folds for each of 1 candidates, totalling 5 fits\n",
      "Fitting 5 folds for each of 1 candidates, totalling 5 fits\n",
      "Fitting 5 folds for each of 1 candidates, totalling 5 fits\n",
      "Fitting 5 folds for each of 1 candidates, totalling 5 fits\n",
      "Fitting 5 folds for each of 1 candidates, totalling 5 fits\n",
      "Fitting 5 folds for each of 1 candidates, totalling 5 fits\n",
      "Fitting 5 folds for each of 1 candidates, totalling 5 fits\n",
      "Fitting 5 folds for each of 1 candidates, totalling 5 fits\n",
      "Fitting 5 folds for each of 1 candidates, totalling 5 fits\n",
      "Fitting 5 folds for each of 1 candidates, totalling 5 fits\n",
      "Fitting 5 folds for each of 1 candidates, totalling 5 fits\n",
      "Fitting 5 folds for each of 1 candidates, totalling 5 fits\n",
      "Fitting 5 folds for each of 1 candidates, totalling 5 fits\n",
      "Fitting 5 folds for each of 1 candidates, totalling 5 fits\n",
      "Fitting 5 folds for each of 1 candidates, totalling 5 fits\n",
      "Fitting 5 folds for each of 1 candidates, totalling 5 fits\n",
      "Fitting 5 folds for each of 1 candidates, totalling 5 fits\n",
      "Fitting 5 folds for each of 1 candidates, totalling 5 fits\n",
      "Fitting 5 folds for each of 1 candidates, totalling 5 fits\n",
      "Fitting 5 folds for each of 1 candidates, totalling 5 fits\n",
      "Best Params (BayesSearchCV - RF): OrderedDict({'clf__class_weight': None, 'clf__max_depth': 27, 'clf__max_features': 'sqrt', 'clf__min_samples_leaf': 1, 'clf__min_samples_split': 2, 'clf__n_estimators': 500})\n",
      "Best F1 Score (CV): 0.6236167211336586\n"
     ]
    }
   ],
   "source": [
    "from skopt import BayesSearchCV\n",
    "from skopt.space import Integer, Categorical, Real\n",
    "from sklearn.ensemble import RandomForestClassifier\n",
    "\n",
    "# Define the search space\n",
    "rf_search_space = {\n",
    "    'clf__n_estimators': Integer(100, 500),\n",
    "    'clf__max_depth': Integer(10, 50),\n",
    "    'clf__min_samples_split': Integer(2, 20),\n",
    "    'clf__min_samples_leaf': Integer(1, 10),\n",
    "    'clf__max_features': Categorical(['sqrt', 'log2', 0.2, 0.5]),\n",
    "    'clf__class_weight': Categorical([None, 'balanced'])\n",
    "}\n",
    "\n",
    "# Set up BayesSearchCV\n",
    "bayes_search_rf = BayesSearchCV(\n",
    "    estimator=rf_pipe,\n",
    "    search_spaces=rf_search_space,\n",
    "    n_iter=30,                     # Try 30 combinations\n",
    "    scoring='f1',\n",
    "    cv=5,\n",
    "    n_jobs=-1,\n",
    "    random_state=42,\n",
    "    verbose=1\n",
    ")\n",
    "\n",
    "# Fit the model\n",
    "bayes_search_rf.fit(X_train_orig, y_train)\n",
    "\n",
    "# Print best result\n",
    "print(\"Best Params (BayesSearchCV - RF):\", bayes_search_rf.best_params_)\n",
    "print(\"Best F1 Score (CV):\", bayes_search_rf.best_score_)"
   ]
  },
  {
   "cell_type": "markdown",
   "id": "5d088aca-1cd0-41e5-9448-54609fe7729b",
   "metadata": {},
   "source": [
    "#### **3.3.3 Final Results** "
   ]
  },
  {
   "cell_type": "markdown",
   "id": "f7de86f5-f666-453b-9b68-d3ba87847422",
   "metadata": {},
   "source": [
    "**Confusion Matrix** "
   ]
  },
  {
   "cell_type": "markdown",
   "id": "66f3ff4e-d26f-4849-aa09-16b084e5f624",
   "metadata": {},
   "source": [
    "**Learning Curves** "
   ]
  },
  {
   "cell_type": "markdown",
   "id": "11b9f58c-e05e-46ff-8823-a6a855f86826",
   "metadata": {},
   "source": [
    "**ROC curve** "
   ]
  },
  {
   "cell_type": "markdown",
   "id": "7fdf0b32-9b6f-4b55-860a-6bd5020b4d68",
   "metadata": {},
   "source": [
    "## **Task4: Interpretation and Reflection**"
   ]
  },
  {
   "cell_type": "markdown",
   "id": "1f66f7ef-e999-4fa8-b6bc-2e8ce2b868ed",
   "metadata": {},
   "source": [
    "### **4.1 Feature importance** (unfinished)"
   ]
  },
  {
   "cell_type": "markdown",
   "id": "6703bd82-dea8-4b83-87e8-a47c01c4320e",
   "metadata": {},
   "source": [
    "### **4.2 Failure modes** (unfinished)"
   ]
  },
  {
   "cell_type": "markdown",
   "id": "154ac53c-8c4f-4898-90e6-35097b103ea1",
   "metadata": {},
   "source": [
    "### **4.3 Reflection on process** (unfinished)"
   ]
  }
 ],
 "metadata": {
  "kernelspec": {
   "display_name": "Python (ML)",
   "language": "python",
   "name": "ml"
  },
  "language_info": {
   "codemirror_mode": {
    "name": "ipython",
    "version": 3
   },
   "file_extension": ".py",
   "mimetype": "text/x-python",
   "name": "python",
   "nbconvert_exporter": "python",
   "pygments_lexer": "ipython3",
   "version": "3.12.8"
  }
 },
 "nbformat": 4,
 "nbformat_minor": 5
}
